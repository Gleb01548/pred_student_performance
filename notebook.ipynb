{
 "cells": [
  {
   "cell_type": "code",
   "execution_count": 1,
   "metadata": {},
   "outputs": [
    {
     "name": "stderr",
     "output_type": "stream",
     "text": [
      "/home/harddisk/projects/test_institut/.venv/lib/python3.10/site-packages/tqdm/auto.py:21: TqdmWarning: IProgress not found. Please update jupyter and ipywidgets. See https://ipywidgets.readthedocs.io/en/stable/user_install.html\n",
      "  from .autonotebook import tqdm as notebook_tqdm\n"
     ]
    }
   ],
   "source": [
    "import torch\n",
    "import pandas as pd\n",
    "from tqdm import tqdm\n",
    "from catboost import CatBoostClassifier\n",
    "from sklearn.metrics import classification_report\n",
    "from transformers import (\n",
    "    AutoModelForCausalLM,\n",
    "    AutoTokenizer,\n",
    "    GenerationConfig,\n",
    "    pipeline,\n",
    ")\n",
    "from torch.utils.data import DataLoader\n",
    "from langchain.prompts import PromptTemplate\n",
    "\n",
    "from datasets import Dataset\n",
    "\n",
    "\n",
    "pd.options.display.float_format = \"{:.2f}\".format\n",
    "pd.set_option(\"max_colwidth\", 1200)\n",
    "pd.set_option(\"display.width\", 1000)\n",
    "# pd.set_option(\"display.max_rows\", 100)\n",
    "\n",
    "pd.set_option(\"future.no_silent_downcasting\", True)"
   ]
  },
  {
   "cell_type": "markdown",
   "metadata": {},
   "source": [
    "## Предобработка"
   ]
  },
  {
   "cell_type": "code",
   "execution_count": 2,
   "metadata": {},
   "outputs": [
    {
     "data": {
      "text/plain": [
       "(376007, 10)"
      ]
     },
     "execution_count": 2,
     "metadata": {},
     "output_type": "execute_result"
    }
   ],
   "source": [
    "df = pd.read_csv(\"./data/data.csv\")\n",
    "df.shape"
   ]
  },
  {
   "cell_type": "code",
   "execution_count": 3,
   "metadata": {},
   "outputs": [],
   "source": [
    "df.to_csv(\"./data/data.csv\", index=False)"
   ]
  },
  {
   "cell_type": "code",
   "execution_count": 4,
   "metadata": {},
   "outputs": [
    {
     "data": {
      "text/html": [
       "<div>\n",
       "<style scoped>\n",
       "    .dataframe tbody tr th:only-of-type {\n",
       "        vertical-align: middle;\n",
       "    }\n",
       "\n",
       "    .dataframe tbody tr th {\n",
       "        vertical-align: top;\n",
       "    }\n",
       "\n",
       "    .dataframe thead th {\n",
       "        text-align: right;\n",
       "    }\n",
       "</style>\n",
       "<table border=\"1\" class=\"dataframe\">\n",
       "  <thead>\n",
       "    <tr style=\"text-align: right;\">\n",
       "      <th></th>\n",
       "      <th>hash</th>\n",
       "      <th>Номер ЛД</th>\n",
       "      <th>Уровень подготовки</th>\n",
       "      <th>Учебная группа</th>\n",
       "      <th>Специальность/направление</th>\n",
       "      <th>Учебный год</th>\n",
       "      <th>Полугодие</th>\n",
       "      <th>Дисциплина</th>\n",
       "      <th>Оценка (без пересдач)</th>\n",
       "      <th>Оценка (успеваемость)</th>\n",
       "    </tr>\n",
       "  </thead>\n",
       "  <tbody>\n",
       "    <tr>\n",
       "      <th>188056</th>\n",
       "      <td>c71c7684cd1ebeb275d00c24a640a604</td>\n",
       "      <td>2008046</td>\n",
       "      <td>Академический бакалавр</td>\n",
       "      <td>БЛГ-20-9</td>\n",
       "      <td>Лингвистика</td>\n",
       "      <td>2023 - 2024</td>\n",
       "      <td>I полугодие</td>\n",
       "      <td>Практический курс испанского языка, уровень В1++</td>\n",
       "      <td>NaN</td>\n",
       "      <td>NaN</td>\n",
       "    </tr>\n",
       "    <tr>\n",
       "      <th>73164</th>\n",
       "      <td>19848fb18f08c12a3018334a96afbc01</td>\n",
       "      <td>2109522</td>\n",
       "      <td>Академический бакалавр</td>\n",
       "      <td>БПМ-21-2</td>\n",
       "      <td>Прикладная математика</td>\n",
       "      <td>2022 - 2023</td>\n",
       "      <td>II полугодие</td>\n",
       "      <td>Теория систем автоматического управления</td>\n",
       "      <td>Удовлетворительно</td>\n",
       "      <td>Удовлетворительно</td>\n",
       "    </tr>\n",
       "    <tr>\n",
       "      <th>194446</th>\n",
       "      <td>9f8ef330becd9f1eec5a19c421bf8b4e</td>\n",
       "      <td>2204059</td>\n",
       "      <td>Бакалавр</td>\n",
       "      <td>БЭК-22-4</td>\n",
       "      <td>Экономика</td>\n",
       "      <td>2023 - 2024</td>\n",
       "      <td>II полугодие</td>\n",
       "      <td>Деньги. Кредит. Банки</td>\n",
       "      <td>NaN</td>\n",
       "      <td>NaN</td>\n",
       "    </tr>\n",
       "    <tr>\n",
       "      <th>372729</th>\n",
       "      <td>daf673772f0e8510d14d4c847f7997e2</td>\n",
       "      <td>2201960</td>\n",
       "      <td>Специалист</td>\n",
       "      <td>СГД-22-2</td>\n",
       "      <td>Горное дело</td>\n",
       "      <td>2022 - 2023</td>\n",
       "      <td>I полугодие</td>\n",
       "      <td>Информатика</td>\n",
       "      <td>Отлично</td>\n",
       "      <td>Отлично</td>\n",
       "    </tr>\n",
       "    <tr>\n",
       "      <th>308006</th>\n",
       "      <td>392988a7e7b5f75658ee2f3b541d18ab</td>\n",
       "      <td>2212270</td>\n",
       "      <td>Магистр</td>\n",
       "      <td>ММТ-22-7</td>\n",
       "      <td>Металлургия</td>\n",
       "      <td>2023 - 2024</td>\n",
       "      <td>II полугодие</td>\n",
       "      <td>Преддипломная практика</td>\n",
       "      <td>NaN</td>\n",
       "      <td>NaN</td>\n",
       "    </tr>\n",
       "  </tbody>\n",
       "</table>\n",
       "</div>"
      ],
      "text/plain": [
       "                                    hash  Номер ЛД      Уровень подготовки Учебная группа Специальность/направление  Учебный год     Полугодие                                        Дисциплина Оценка (без пересдач) Оценка (успеваемость)\n",
       "188056  c71c7684cd1ebeb275d00c24a640a604   2008046  Академический бакалавр       БЛГ-20-9               Лингвистика  2023 - 2024   I полугодие  Практический курс испанского языка, уровень В1++                   NaN                   NaN\n",
       "73164   19848fb18f08c12a3018334a96afbc01   2109522  Академический бакалавр       БПМ-21-2     Прикладная математика  2022 - 2023  II полугодие          Теория систем автоматического управления     Удовлетворительно     Удовлетворительно\n",
       "194446  9f8ef330becd9f1eec5a19c421bf8b4e   2204059                Бакалавр       БЭК-22-4                 Экономика  2023 - 2024  II полугодие                             Деньги. Кредит. Банки                   NaN                   NaN\n",
       "372729  daf673772f0e8510d14d4c847f7997e2   2201960              Специалист       СГД-22-2               Горное дело  2022 - 2023   I полугодие                                       Информатика               Отлично               Отлично\n",
       "308006  392988a7e7b5f75658ee2f3b541d18ab   2212270                 Магистр       ММТ-22-7               Металлургия  2023 - 2024  II полугодие                            Преддипломная практика                   NaN                   NaN"
      ]
     },
     "execution_count": 4,
     "metadata": {},
     "output_type": "execute_result"
    }
   ],
   "source": [
    "df.sample(5)"
   ]
  },
  {
   "cell_type": "code",
   "execution_count": 5,
   "metadata": {},
   "outputs": [
    {
     "data": {
      "text/plain": [
       "hash                         object\n",
       "Номер ЛД                      int64\n",
       "Уровень подготовки           object\n",
       "Учебная группа               object\n",
       "Специальность/направление    object\n",
       "Учебный год                  object\n",
       "Полугодие                    object\n",
       "Дисциплина                   object\n",
       "Оценка (без пересдач)        object\n",
       "Оценка (успеваемость)        object\n",
       "dtype: object"
      ]
     },
     "execution_count": 5,
     "metadata": {},
     "output_type": "execute_result"
    }
   ],
   "source": [
    "df.dtypes"
   ]
  },
  {
   "cell_type": "code",
   "execution_count": 6,
   "metadata": {},
   "outputs": [
    {
     "data": {
      "text/plain": [
       "hash                              0\n",
       "Номер ЛД                          0\n",
       "Уровень подготовки                0\n",
       "Учебная группа                    0\n",
       "Специальность/направление         0\n",
       "Учебный год                       0\n",
       "Полугодие                         0\n",
       "Дисциплина                        0\n",
       "Оценка (без пересдач)        187003\n",
       "Оценка (успеваемость)        179485\n",
       "dtype: int64"
      ]
     },
     "execution_count": 6,
     "metadata": {},
     "output_type": "execute_result"
    }
   ],
   "source": [
    "df.isnull().sum()"
   ]
  },
  {
   "cell_type": "code",
   "execution_count": 7,
   "metadata": {},
   "outputs": [
    {
     "data": {
      "text/plain": [
       "Index(['hash', 'num_ld', 'level', 'group', 'spec', 'year', 'half_year', 'dis', 'evaluation_1', 'evaluation_2'], dtype='object')"
      ]
     },
     "execution_count": 7,
     "metadata": {},
     "output_type": "execute_result"
    }
   ],
   "source": [
    "df.columns = [\n",
    "    \"hash\",\n",
    "    \"num_ld\",\n",
    "    \"level\",\n",
    "    \"group\",\n",
    "    \"spec\",\n",
    "    \"year\",\n",
    "    \"half_year\",\n",
    "    \"dis\",\n",
    "    \"evaluation_1\",\n",
    "    \"evaluation_2\",\n",
    "]\n",
    "df.columns"
   ]
  },
  {
   "cell_type": "code",
   "execution_count": 8,
   "metadata": {},
   "outputs": [
    {
     "data": {
      "text/plain": [
       "0"
      ]
     },
     "execution_count": 8,
     "metadata": {},
     "output_type": "execute_result"
    }
   ],
   "source": [
    "df.duplicated().sum()"
   ]
  },
  {
   "cell_type": "markdown",
   "metadata": {},
   "source": [
    "Проверка уникальности hash"
   ]
  },
  {
   "cell_type": "code",
   "execution_count": 9,
   "metadata": {},
   "outputs": [
    {
     "name": "stdout",
     "output_type": "stream",
     "text": [
      "13\n"
     ]
    },
    {
     "data": {
      "text/plain": [
       "hash\n",
       "0c2cd8750952648f9dc50f858b5d0bba    2\n",
       "1e9a1773365bc3cc7ff413275250fc92    2\n",
       "24e72ecc671f6a23b947178c0fb53c20    2\n",
       "2a4f75b7c555f16b83a17d7d4b4e94a9    2\n",
       "2f41ab589489046803d432b59e8e6331    2\n",
       "5eb84149f57391b4d71b55703e3bf496    2\n",
       "7a64d6504af97cbaccf38a410b532e6b    2\n",
       "ad5b37dae95b7b05b6fcebaa98a69490    2\n",
       "b8fd11f0f253b46399a3dd0a4aba7e42    2\n",
       "bc2b18ddce3cb9fe20fb47af8d0390cf    2\n",
       "c38a2fd37e008e520c954bef41b98d65    2\n",
       "ce1ec83cdca108d3064d2b7dfe7bcdde    2\n",
       "d88cacfae7cec50f00182bf55240f97a    2\n",
       "Name: num_ld, dtype: int64"
      ]
     },
     "execution_count": 9,
     "metadata": {},
     "output_type": "execute_result"
    }
   ],
   "source": [
    "uniq_hash = df.groupby(\"hash\")[\"num_ld\"].nunique()\n",
    "not_uniq_hash = uniq_hash[uniq_hash > 1]\n",
    "print(len(not_uniq_hash))\n",
    "not_uniq_hash"
   ]
  },
  {
   "cell_type": "code",
   "execution_count": 10,
   "metadata": {},
   "outputs": [],
   "source": [
    "two_level = df[df.hash.isin(not_uniq_hash.index)].groupby(\"hash\")[\"level\"].nunique()\n",
    "two_level = two_level[two_level > 1]"
   ]
  },
  {
   "cell_type": "code",
   "execution_count": 11,
   "metadata": {},
   "outputs": [
    {
     "data": {
      "text/html": [
       "<div>\n",
       "<style scoped>\n",
       "    .dataframe tbody tr th:only-of-type {\n",
       "        vertical-align: middle;\n",
       "    }\n",
       "\n",
       "    .dataframe tbody tr th {\n",
       "        vertical-align: top;\n",
       "    }\n",
       "\n",
       "    .dataframe thead th {\n",
       "        text-align: right;\n",
       "    }\n",
       "</style>\n",
       "<table border=\"1\" class=\"dataframe\">\n",
       "  <thead>\n",
       "    <tr style=\"text-align: right;\">\n",
       "      <th></th>\n",
       "      <th>hash</th>\n",
       "      <th>num_ld</th>\n",
       "      <th>level</th>\n",
       "    </tr>\n",
       "  </thead>\n",
       "  <tbody>\n",
       "    <tr>\n",
       "      <th>46229</th>\n",
       "      <td>b8fd11f0f253b46399a3dd0a4aba7e42</td>\n",
       "      <td>2210020</td>\n",
       "      <td>Бакалавр</td>\n",
       "    </tr>\n",
       "    <tr>\n",
       "      <th>46259</th>\n",
       "      <td>b8fd11f0f253b46399a3dd0a4aba7e42</td>\n",
       "      <td>2310815</td>\n",
       "      <td>Магистр</td>\n",
       "    </tr>\n",
       "    <tr>\n",
       "      <th>51404</th>\n",
       "      <td>ce1ec83cdca108d3064d2b7dfe7bcdde</td>\n",
       "      <td>2212595</td>\n",
       "      <td>Магистр</td>\n",
       "    </tr>\n",
       "    <tr>\n",
       "      <th>51426</th>\n",
       "      <td>ce1ec83cdca108d3064d2b7dfe7bcdde</td>\n",
       "      <td>2306102</td>\n",
       "      <td>Бакалавр</td>\n",
       "    </tr>\n",
       "    <tr>\n",
       "      <th>118635</th>\n",
       "      <td>c38a2fd37e008e520c954bef41b98d65</td>\n",
       "      <td>1911506</td>\n",
       "      <td>Специалист</td>\n",
       "    </tr>\n",
       "    <tr>\n",
       "      <th>118691</th>\n",
       "      <td>c38a2fd37e008e520c954bef41b98d65</td>\n",
       "      <td>2010258</td>\n",
       "      <td>Академический бакалавр</td>\n",
       "    </tr>\n",
       "    <tr>\n",
       "      <th>119636</th>\n",
       "      <td>7a64d6504af97cbaccf38a410b532e6b</td>\n",
       "      <td>1901003</td>\n",
       "      <td>Академический бакалавр</td>\n",
       "    </tr>\n",
       "    <tr>\n",
       "      <th>119706</th>\n",
       "      <td>7a64d6504af97cbaccf38a410b532e6b</td>\n",
       "      <td>2207879</td>\n",
       "      <td>Бакалавр</td>\n",
       "    </tr>\n",
       "    <tr>\n",
       "      <th>129041</th>\n",
       "      <td>ad5b37dae95b7b05b6fcebaa98a69490</td>\n",
       "      <td>2008212</td>\n",
       "      <td>Академический бакалавр</td>\n",
       "    </tr>\n",
       "    <tr>\n",
       "      <th>129115</th>\n",
       "      <td>ad5b37dae95b7b05b6fcebaa98a69490</td>\n",
       "      <td>2305284</td>\n",
       "      <td>Магистр</td>\n",
       "    </tr>\n",
       "    <tr>\n",
       "      <th>275212</th>\n",
       "      <td>2f41ab589489046803d432b59e8e6331</td>\n",
       "      <td>2005639</td>\n",
       "      <td>Академический бакалавр</td>\n",
       "    </tr>\n",
       "    <tr>\n",
       "      <th>275280</th>\n",
       "      <td>2f41ab589489046803d432b59e8e6331</td>\n",
       "      <td>2205842</td>\n",
       "      <td>Бакалавр</td>\n",
       "    </tr>\n",
       "    <tr>\n",
       "      <th>294434</th>\n",
       "      <td>bc2b18ddce3cb9fe20fb47af8d0390cf</td>\n",
       "      <td>2010595</td>\n",
       "      <td>Академический бакалавр</td>\n",
       "    </tr>\n",
       "    <tr>\n",
       "      <th>294525</th>\n",
       "      <td>bc2b18ddce3cb9fe20fb47af8d0390cf</td>\n",
       "      <td>2300145</td>\n",
       "      <td>Бакалавр</td>\n",
       "    </tr>\n",
       "    <tr>\n",
       "      <th>299712</th>\n",
       "      <td>d88cacfae7cec50f00182bf55240f97a</td>\n",
       "      <td>2009052</td>\n",
       "      <td>Академический бакалавр</td>\n",
       "    </tr>\n",
       "    <tr>\n",
       "      <th>299781</th>\n",
       "      <td>d88cacfae7cec50f00182bf55240f97a</td>\n",
       "      <td>2307868</td>\n",
       "      <td>Бакалавр</td>\n",
       "    </tr>\n",
       "    <tr>\n",
       "      <th>343970</th>\n",
       "      <td>24e72ecc671f6a23b947178c0fb53c20</td>\n",
       "      <td>2108933</td>\n",
       "      <td>Специалист</td>\n",
       "    </tr>\n",
       "    <tr>\n",
       "      <th>344016</th>\n",
       "      <td>24e72ecc671f6a23b947178c0fb53c20</td>\n",
       "      <td>2210353</td>\n",
       "      <td>Бакалавр</td>\n",
       "    </tr>\n",
       "  </tbody>\n",
       "</table>\n",
       "</div>"
      ],
      "text/plain": [
       "                                    hash   num_ld                   level\n",
       "46229   b8fd11f0f253b46399a3dd0a4aba7e42  2210020                Бакалавр\n",
       "46259   b8fd11f0f253b46399a3dd0a4aba7e42  2310815                 Магистр\n",
       "51404   ce1ec83cdca108d3064d2b7dfe7bcdde  2212595                 Магистр\n",
       "51426   ce1ec83cdca108d3064d2b7dfe7bcdde  2306102                Бакалавр\n",
       "118635  c38a2fd37e008e520c954bef41b98d65  1911506              Специалист\n",
       "118691  c38a2fd37e008e520c954bef41b98d65  2010258  Академический бакалавр\n",
       "119636  7a64d6504af97cbaccf38a410b532e6b  1901003  Академический бакалавр\n",
       "119706  7a64d6504af97cbaccf38a410b532e6b  2207879                Бакалавр\n",
       "129041  ad5b37dae95b7b05b6fcebaa98a69490  2008212  Академический бакалавр\n",
       "129115  ad5b37dae95b7b05b6fcebaa98a69490  2305284                 Магистр\n",
       "275212  2f41ab589489046803d432b59e8e6331  2005639  Академический бакалавр\n",
       "275280  2f41ab589489046803d432b59e8e6331  2205842                Бакалавр\n",
       "294434  bc2b18ddce3cb9fe20fb47af8d0390cf  2010595  Академический бакалавр\n",
       "294525  bc2b18ddce3cb9fe20fb47af8d0390cf  2300145                Бакалавр\n",
       "299712  d88cacfae7cec50f00182bf55240f97a  2009052  Академический бакалавр\n",
       "299781  d88cacfae7cec50f00182bf55240f97a  2307868                Бакалавр\n",
       "343970  24e72ecc671f6a23b947178c0fb53c20  2108933              Специалист\n",
       "344016  24e72ecc671f6a23b947178c0fb53c20  2210353                Бакалавр"
      ]
     },
     "execution_count": 11,
     "metadata": {},
     "output_type": "execute_result"
    }
   ],
   "source": [
    "df.loc[df.hash.isin(two_level.index), [\"hash\", \"num_ld\", \"level\"]].drop_duplicates()"
   ]
  },
  {
   "cell_type": "markdown",
   "metadata": {},
   "source": [
    "Можно было бы подумать, что на новом уровне высшего образования заводится новое личное дело, но для одного и того же уровня есть несколько номеров личных дел для одного ид студента, поэтому предпологаю, что это ошибка в поставке данных и такие записи необходимо удалить"
   ]
  },
  {
   "cell_type": "code",
   "execution_count": 12,
   "metadata": {},
   "outputs": [
    {
     "name": "stdout",
     "output_type": "stream",
     "text": [
      "376007\n"
     ]
    },
    {
     "data": {
      "text/plain": [
       "375044"
      ]
     },
     "execution_count": 12,
     "metadata": {},
     "output_type": "execute_result"
    }
   ],
   "source": [
    "print(df.shape[0])\n",
    "df = df[~df.hash.isin(not_uniq_hash.index)]\n",
    "df.shape[0]"
   ]
  },
  {
   "cell_type": "code",
   "execution_count": 13,
   "metadata": {},
   "outputs": [],
   "source": [
    "# удалим num_ld за ненадобностью\n",
    "df = df.drop(\"num_ld\", axis=1)"
   ]
  },
  {
   "cell_type": "code",
   "execution_count": 14,
   "metadata": {},
   "outputs": [
    {
     "data": {
      "text/plain": [
       "hash                 0\n",
       "level                0\n",
       "group                0\n",
       "spec                 0\n",
       "year                 0\n",
       "half_year            0\n",
       "dis                  0\n",
       "evaluation_1    186598\n",
       "evaluation_2    179043\n",
       "dtype: int64"
      ]
     },
     "execution_count": 14,
     "metadata": {},
     "output_type": "execute_result"
    }
   ],
   "source": [
    "df.isnull().sum()"
   ]
  },
  {
   "cell_type": "code",
   "execution_count": 15,
   "metadata": {},
   "outputs": [
    {
     "data": {
      "text/plain": [
       "array(['Академический бакалавр', 'Бакалавр', 'Магистр', 'Специалист'],\n",
       "      dtype=object)"
      ]
     },
     "execution_count": 15,
     "metadata": {},
     "output_type": "execute_result"
    }
   ],
   "source": [
    "df[\"level\"].unique()"
   ]
  },
  {
   "cell_type": "code",
   "execution_count": 16,
   "metadata": {},
   "outputs": [
    {
     "data": {
      "text/plain": [
       "array(['Бакалавр', 'Магистр', 'Специалист'], dtype=object)"
      ]
     },
     "execution_count": 16,
     "metadata": {},
     "output_type": "execute_result"
    }
   ],
   "source": [
    "df[\"level\"] = df[\"level\"].replace(\"Академический бакалавр\", \"Бакалавр\")\n",
    "df.level.unique()"
   ]
  },
  {
   "cell_type": "code",
   "execution_count": 17,
   "metadata": {},
   "outputs": [
    {
     "data": {
      "text/plain": [
       "489"
      ]
     },
     "execution_count": 17,
     "metadata": {},
     "output_type": "execute_result"
    }
   ],
   "source": [
    "df.group.nunique()"
   ]
  },
  {
   "cell_type": "code",
   "execution_count": 18,
   "metadata": {},
   "outputs": [
    {
     "data": {
      "text/plain": [
       "group\n",
       "БЛГ-20-8                   3167\n",
       "БЛГ-20-14                  3161\n",
       "БЛГ-20-5                   2737\n",
       "БЛГ-20-10                  2736\n",
       "БЛГ-20-2                   2731\n",
       "                           ... \n",
       "ММТ-22-3_Сиднев А.В.         15\n",
       "ММТ-22-3_Гуреев Н.М.         15\n",
       "ММТ-22-3_Видманова А.Н.      15\n",
       "ММТ-22-3_Тхор М.Ю.           15\n",
       "МНТМ-23-2А                   14\n",
       "Name: count, Length: 489, dtype: int64"
      ]
     },
     "execution_count": 18,
     "metadata": {},
     "output_type": "execute_result"
    }
   ],
   "source": [
    "df.group.value_counts()"
   ]
  },
  {
   "cell_type": "code",
   "execution_count": 19,
   "metadata": {},
   "outputs": [],
   "source": [
    "def change_group(X):\n",
    "    if \"_\" in X:\n",
    "        return X.split(\"_\")[0]\n",
    "    else:\n",
    "        return X"
   ]
  },
  {
   "cell_type": "code",
   "execution_count": 20,
   "metadata": {},
   "outputs": [],
   "source": [
    "df[\"group\"] = df[\"group\"].apply(lambda X: change_group(X))"
   ]
  },
  {
   "cell_type": "code",
   "execution_count": 21,
   "metadata": {},
   "outputs": [
    {
     "data": {
      "text/plain": [
       "465"
      ]
     },
     "execution_count": 21,
     "metadata": {},
     "output_type": "execute_result"
    }
   ],
   "source": [
    "df.group.nunique()"
   ]
  },
  {
   "cell_type": "code",
   "execution_count": 22,
   "metadata": {},
   "outputs": [
    {
     "data": {
      "text/plain": [
       "year\n",
       "2023 - 2024    157695\n",
       "2022 - 2023    113668\n",
       "2021 - 2022     67414\n",
       "2020 - 2021     28116\n",
       "2019 - 2020      5512\n",
       "2018 - 2019      2299\n",
       "2024 - 2025       282\n",
       "2025 - 2026        37\n",
       "2017 - 2018        15\n",
       "2026 - 2027         5\n",
       "2027 - 2028         1\n",
       "Name: count, dtype: int64"
      ]
     },
     "execution_count": 22,
     "metadata": {},
     "output_type": "execute_result"
    }
   ],
   "source": [
    "df.year.value_counts()"
   ]
  },
  {
   "cell_type": "code",
   "execution_count": 23,
   "metadata": {},
   "outputs": [
    {
     "name": "stderr",
     "output_type": "stream",
     "text": [
      "/tmp/ipykernel_2811050/3089082234.py:2: SettingWithCopyWarning: \n",
      "A value is trying to be set on a copy of a slice from a DataFrame.\n",
      "Try using .loc[row_indexer,col_indexer] = value instead\n",
      "\n",
      "See the caveats in the documentation: https://pandas.pydata.org/pandas-docs/stable/user_guide/indexing.html#returning-a-view-versus-a-copy\n",
      "  df_search[\"evaluation_2\"] = df_search[\"evaluation_2\"].isnull()\n"
     ]
    },
    {
     "data": {
      "text/plain": [
       "year         evaluation_2\n",
       "2017 - 2018  False               14\n",
       "             True                 1\n",
       "2018 - 2019  False             2296\n",
       "             True                 3\n",
       "2019 - 2020  False             5433\n",
       "             True                79\n",
       "2020 - 2021  False            27210\n",
       "             True               906\n",
       "2021 - 2022  False            52132\n",
       "             True             15282\n",
       "2022 - 2023  False            93293\n",
       "             True             20375\n",
       "2023 - 2024  False            15365\n",
       "             True            142330\n",
       "2024 - 2025  False              217\n",
       "             True                65\n",
       "2025 - 2026  False               35\n",
       "             True                 2\n",
       "2026 - 2027  False                5\n",
       "2027 - 2028  False                1\n",
       "Name: count, dtype: int64"
      ]
     },
     "execution_count": 23,
     "metadata": {},
     "output_type": "execute_result"
    }
   ],
   "source": [
    "df_search = df[[\"year\", \"evaluation_2\"]]\n",
    "df_search[\"evaluation_2\"] = df_search[\"evaluation_2\"].isnull()\n",
    "df_search.value_counts().sort_index()"
   ]
  },
  {
   "cell_type": "markdown",
   "metadata": {},
   "source": [
    "Очень много неуд в 2023-2024, а далее учебные года еще не начались"
   ]
  },
  {
   "cell_type": "code",
   "execution_count": 24,
   "metadata": {},
   "outputs": [],
   "source": [
    "df = df[~df.year.isin([\"2024 - 2025\", \"2025 - 2026\", \"2026 - 2027\", \"2027 - 2028\"])]"
   ]
  },
  {
   "cell_type": "code",
   "execution_count": 25,
   "metadata": {},
   "outputs": [
    {
     "data": {
      "text/plain": [
       "array([nan, 'зачтено', 'Отлично', 'Удовлетворительно', 'Хорошо', 'Неявка',\n",
       "       'не зачтено', 'Неудовлетворительно'], dtype=object)"
      ]
     },
     "execution_count": 25,
     "metadata": {},
     "output_type": "execute_result"
    }
   ],
   "source": [
    "df[df.year == \"2023 - 2024\"].evaluation_2.unique()"
   ]
  },
  {
   "cell_type": "code",
   "execution_count": 26,
   "metadata": {},
   "outputs": [
    {
     "name": "stderr",
     "output_type": "stream",
     "text": [
      "/tmp/ipykernel_2811050/4160421311.py:2: SettingWithCopyWarning: \n",
      "A value is trying to be set on a copy of a slice from a DataFrame.\n",
      "Try using .loc[row_indexer,col_indexer] = value instead\n",
      "\n",
      "See the caveats in the documentation: https://pandas.pydata.org/pandas-docs/stable/user_guide/indexing.html#returning-a-view-versus-a-copy\n",
      "  df_search.evaluation_2 = df_search.evaluation_2.fillna(\"Неудовлетворительно\")\n"
     ]
    }
   ],
   "source": [
    "df_search = df[df.year == \"2023 - 2024\"]\n",
    "df_search.evaluation_2 = df_search.evaluation_2.fillna(\"Неудовлетворительно\")\n",
    "count_hash = df_search.groupby(\"hash\")[\"evaluation_2\"].agg(\"count\")\n",
    "count_hash_bad = (\n",
    "    df_search[df_search[\"evaluation_2\"] == \"Неудовлетворительно\"]\n",
    "    .groupby(\"hash\")[\"evaluation_2\"]\n",
    "    .agg(\"count\")\n",
    ")"
   ]
  },
  {
   "cell_type": "code",
   "execution_count": 27,
   "metadata": {},
   "outputs": [
    {
     "data": {
      "text/html": [
       "<div>\n",
       "<style scoped>\n",
       "    .dataframe tbody tr th:only-of-type {\n",
       "        vertical-align: middle;\n",
       "    }\n",
       "\n",
       "    .dataframe tbody tr th {\n",
       "        vertical-align: top;\n",
       "    }\n",
       "\n",
       "    .dataframe thead th {\n",
       "        text-align: right;\n",
       "    }\n",
       "</style>\n",
       "<table border=\"1\" class=\"dataframe\">\n",
       "  <thead>\n",
       "    <tr style=\"text-align: right;\">\n",
       "      <th></th>\n",
       "      <th>evaluation_2</th>\n",
       "      <th>evaluation_2_bad</th>\n",
       "    </tr>\n",
       "    <tr>\n",
       "      <th>hash</th>\n",
       "      <th></th>\n",
       "      <th></th>\n",
       "    </tr>\n",
       "  </thead>\n",
       "  <tbody>\n",
       "    <tr>\n",
       "      <th>000006af6e40c8234a5af27896b7bba5</th>\n",
       "      <td>17</td>\n",
       "      <td>17.00</td>\n",
       "    </tr>\n",
       "    <tr>\n",
       "      <th>00083ac3c8aecc3a1cf66029173e56fa</th>\n",
       "      <td>46</td>\n",
       "      <td>46.00</td>\n",
       "    </tr>\n",
       "    <tr>\n",
       "      <th>001912a530f78ef9f5168bd00b75ff71</th>\n",
       "      <td>11</td>\n",
       "      <td>10.00</td>\n",
       "    </tr>\n",
       "    <tr>\n",
       "      <th>002ce0ab2ee8101b0c19995bdf2b945d</th>\n",
       "      <td>14</td>\n",
       "      <td>13.00</td>\n",
       "    </tr>\n",
       "    <tr>\n",
       "      <th>002ed2297ad196e3b8a7e668f32d125b</th>\n",
       "      <td>46</td>\n",
       "      <td>46.00</td>\n",
       "    </tr>\n",
       "    <tr>\n",
       "      <th>...</th>\n",
       "      <td>...</td>\n",
       "      <td>...</td>\n",
       "    </tr>\n",
       "    <tr>\n",
       "      <th>ffd6328bf93225b17baf0827acd35fd5</th>\n",
       "      <td>17</td>\n",
       "      <td>17.00</td>\n",
       "    </tr>\n",
       "    <tr>\n",
       "      <th>ffd8b521d53584075cf239ebabdc46a0</th>\n",
       "      <td>13</td>\n",
       "      <td>13.00</td>\n",
       "    </tr>\n",
       "    <tr>\n",
       "      <th>ffe0df6ab7e1747a1a846fb8318f9130</th>\n",
       "      <td>17</td>\n",
       "      <td>16.00</td>\n",
       "    </tr>\n",
       "    <tr>\n",
       "      <th>ffe63697b90c27f866b8424c43bc2fdf</th>\n",
       "      <td>22</td>\n",
       "      <td>20.00</td>\n",
       "    </tr>\n",
       "    <tr>\n",
       "      <th>ffed4fe2ad8cbff97e0b3d21da23008d</th>\n",
       "      <td>15</td>\n",
       "      <td>12.00</td>\n",
       "    </tr>\n",
       "  </tbody>\n",
       "</table>\n",
       "<p>9072 rows × 2 columns</p>\n",
       "</div>"
      ],
      "text/plain": [
       "                                  evaluation_2  evaluation_2_bad\n",
       "hash                                                            \n",
       "000006af6e40c8234a5af27896b7bba5            17             17.00\n",
       "00083ac3c8aecc3a1cf66029173e56fa            46             46.00\n",
       "001912a530f78ef9f5168bd00b75ff71            11             10.00\n",
       "002ce0ab2ee8101b0c19995bdf2b945d            14             13.00\n",
       "002ed2297ad196e3b8a7e668f32d125b            46             46.00\n",
       "...                                        ...               ...\n",
       "ffd6328bf93225b17baf0827acd35fd5            17             17.00\n",
       "ffd8b521d53584075cf239ebabdc46a0            13             13.00\n",
       "ffe0df6ab7e1747a1a846fb8318f9130            17             16.00\n",
       "ffe63697b90c27f866b8424c43bc2fdf            22             20.00\n",
       "ffed4fe2ad8cbff97e0b3d21da23008d            15             12.00\n",
       "\n",
       "[9072 rows x 2 columns]"
      ]
     },
     "execution_count": 27,
     "metadata": {},
     "output_type": "execute_result"
    }
   ],
   "source": [
    "count_hash = pd.DataFrame(count_hash).join(count_hash_bad, rsuffix=\"_bad\")\n",
    "count_hash"
   ]
  },
  {
   "cell_type": "code",
   "execution_count": 28,
   "metadata": {},
   "outputs": [
    {
     "data": {
      "text/plain": [
       "2848"
      ]
     },
     "execution_count": 28,
     "metadata": {},
     "output_type": "execute_result"
    }
   ],
   "source": [
    "(count_hash[\"evaluation_2\"] == count_hash[\"evaluation_2_bad\"]).sum()"
   ]
  },
  {
   "cell_type": "code",
   "execution_count": 29,
   "metadata": {},
   "outputs": [
    {
     "data": {
      "text/plain": [
       "58085"
      ]
     },
     "execution_count": 29,
     "metadata": {},
     "output_type": "execute_result"
    }
   ],
   "source": [
    "count_hash[count_hash[\"evaluation_2\"] == count_hash[\"evaluation_2_bad\"]][\n",
    "    \"evaluation_2\"\n",
    "].sum()"
   ]
  },
  {
   "cell_type": "markdown",
   "metadata": {},
   "source": [
    "За 2023-2024 год студентами получено порядка 142330 неуд из них 2848 студентами получено 58085. Даже если удалить только исключительно двочников, то все равно неуд останется слишком много. Поэтому пологаю, что данные за 2023-2024 учебный год недостоверны и подлежат удалению."
   ]
  },
  {
   "cell_type": "code",
   "execution_count": 30,
   "metadata": {},
   "outputs": [],
   "source": [
    "df = df[~df.year.isin([\"2023 - 2024\"])]"
   ]
  },
  {
   "cell_type": "code",
   "execution_count": 31,
   "metadata": {},
   "outputs": [
    {
     "data": {
      "text/plain": [
       "hash                0\n",
       "level               0\n",
       "group               0\n",
       "spec                0\n",
       "year                0\n",
       "half_year           0\n",
       "dis                 0\n",
       "evaluation_1    44084\n",
       "evaluation_2    36646\n",
       "dtype: int64"
      ]
     },
     "execution_count": 31,
     "metadata": {},
     "output_type": "execute_result"
    }
   ],
   "source": [
    "df.isnull().sum()"
   ]
  },
  {
   "cell_type": "code",
   "execution_count": 32,
   "metadata": {},
   "outputs": [
    {
     "data": {
      "text/plain": [
       "year\n",
       "2022 - 2023    113668\n",
       "2021 - 2022     67414\n",
       "2020 - 2021     28116\n",
       "2019 - 2020      5512\n",
       "2018 - 2019      2299\n",
       "2017 - 2018        15\n",
       "Name: count, dtype: int64"
      ]
     },
     "execution_count": 32,
     "metadata": {},
     "output_type": "execute_result"
    }
   ],
   "source": [
    "df.year.value_counts()"
   ]
  },
  {
   "cell_type": "code",
   "execution_count": 33,
   "metadata": {},
   "outputs": [
    {
     "data": {
      "text/plain": [
       "array(['I полугодие', 'II полугодие'], dtype=object)"
      ]
     },
     "execution_count": 33,
     "metadata": {},
     "output_type": "execute_result"
    }
   ],
   "source": [
    "df.half_year.unique()"
   ]
  },
  {
   "cell_type": "code",
   "execution_count": 34,
   "metadata": {},
   "outputs": [
    {
     "data": {
      "text/plain": [
       "array(['Хорошо', 'Удовлетворительно', 'зачтено', nan, 'Отлично',\n",
       "       'Неудовлетворительно', 'Неявка', 'не зачтено',\n",
       "       'Неявка по ув.причине', 'Не допущен'], dtype=object)"
      ]
     },
     "execution_count": 34,
     "metadata": {},
     "output_type": "execute_result"
    }
   ],
   "source": [
    "df.evaluation_1.unique()"
   ]
  },
  {
   "cell_type": "markdown",
   "metadata": {},
   "source": [
    "Удалим неявки по уважительной причине, так как сами по себе такие случаю не характеризуют успеваемость студента"
   ]
  },
  {
   "cell_type": "code",
   "execution_count": 35,
   "metadata": {},
   "outputs": [
    {
     "data": {
      "text/plain": [
       "216685"
      ]
     },
     "execution_count": 35,
     "metadata": {},
     "output_type": "execute_result"
    }
   ],
   "source": [
    "df = df[df.evaluation_1 != \"Неявка по ув.причине\"]\n",
    "df.shape[0]"
   ]
  },
  {
   "cell_type": "code",
   "execution_count": 36,
   "metadata": {},
   "outputs": [
    {
     "data": {
      "text/plain": [
       "spec\n",
       "Лингвистика                                                   47009\n",
       "Горное дело                                                   32061\n",
       "Прикладная информатика                                        19870\n",
       "Информатика и вычислительная техника                          19328\n",
       "Менеджмент                                                    13321\n",
       "Бизнес-информатика                                            10514\n",
       "Экономика                                                     10177\n",
       "Прикладная математика                                          9943\n",
       "Информационные системы и технологии                            9528\n",
       "Металлургия                                                    7843\n",
       "Материаловедение и технологии материалов                       7357\n",
       "Технологические машины и оборудование                          6024\n",
       "Электроника и наноэлектроника                                  5687\n",
       "Физические процессы горного или нефтегазового производства     4458\n",
       "Физика                                                         3512\n",
       "Электроэнергетика и электротехника                             3088\n",
       "Нанотехнологии и микросистемная техника                        2782\n",
       "Наноматериалы                                                  2263\n",
       "Наземные транспортно-технологические средства                  1141\n",
       "Техносферная безопасность                                       491\n",
       "Управление в технических системах                               288\n",
       "Name: count, dtype: int64"
      ]
     },
     "execution_count": 36,
     "metadata": {},
     "output_type": "execute_result"
    }
   ],
   "source": [
    "df[\"spec\"].value_counts()"
   ]
  },
  {
   "cell_type": "code",
   "execution_count": 37,
   "metadata": {},
   "outputs": [
    {
     "data": {
      "text/plain": [
       "1161"
      ]
     },
     "execution_count": 37,
     "metadata": {},
     "output_type": "execute_result"
    }
   ],
   "source": [
    "df[\"dis\"].nunique()"
   ]
  },
  {
   "cell_type": "code",
   "execution_count": 38,
   "metadata": {},
   "outputs": [
    {
     "data": {
      "text/plain": [
       "year\n",
       "2017 - 2018    1\n",
       "2018 - 2019    2\n",
       "2019 - 2020    2\n",
       "2020 - 2021    2\n",
       "2021 - 2022    2\n",
       "2022 - 2023    2\n",
       "Name: half_year, dtype: int64"
      ]
     },
     "execution_count": 38,
     "metadata": {},
     "output_type": "execute_result"
    }
   ],
   "source": [
    "df[[\"year\", \"half_year\"]].drop_duplicates().groupby(\"year\")[\"half_year\"].nunique()"
   ]
  },
  {
   "cell_type": "markdown",
   "metadata": {},
   "source": [
    "## Формирование признаков для модели"
   ]
  },
  {
   "cell_type": "code",
   "execution_count": 39,
   "metadata": {},
   "outputs": [
    {
     "name": "stderr",
     "output_type": "stream",
     "text": [
      "Special tokens have been added in the vocabulary, make sure the associated word embeddings are fine-tuned or trained.\n",
      "Loading checkpoint shards: 100%|██████████| 4/4 [00:08<00:00,  2.24s/it]\n"
     ]
    }
   ],
   "source": [
    "MODEL_NAME = \"IlyaGusev/saiga_llama3_8b\"\n",
    "\n",
    "\n",
    "tokenizer = AutoTokenizer.from_pretrained(MODEL_NAME)\n",
    "model = AutoModelForCausalLM.from_pretrained(\n",
    "    MODEL_NAME,\n",
    "    torch_dtype=torch.float16,\n",
    "    trust_remote_code=True,\n",
    "    device_map={\"\": 0},\n",
    "    # load_in_8bit=True,\n",
    ")\n",
    "model.generation_config.pad_token_id = model.generation_config.eos_token_id"
   ]
  },
  {
   "cell_type": "code",
   "execution_count": 40,
   "metadata": {},
   "outputs": [],
   "source": [
    "# generation_config = GenerationConfig.from_pretrained(MODEL_NAME)\n",
    "# generation_config.max_new_tokens = 1000\n",
    "# generation_config.temperature = 0.001\n",
    "# generation_config.top_p = 0.95\n",
    "# generation_config.do_sample = True\n",
    "# generation_config.repetition_penalty = 1.15\n",
    "\n",
    "\n",
    "text_pipeline = pipeline(\n",
    "    \"text-generation\",\n",
    "    model=model,\n",
    "    tokenizer=tokenizer,\n",
    "    batch_size=16,\n",
    "    # generation_config=generation_config,\n",
    ")"
   ]
  },
  {
   "cell_type": "code",
   "execution_count": 41,
   "metadata": {},
   "outputs": [],
   "source": [
    "template = \"\"\"\n",
    "<|begin_of_text|><|start_header_id|>system<|end_header_id|>\n",
    "\n",
    "Ты — Сайга, русскоязычный автоматический ассистент. Ты разговариваешь с людьми и помогаешь им.<|eot_id|><|start_header_id|>user<|end_header_id|>\n",
    "\n",
    "Тебе необходимо определить учебную дисциплину в одну из категорий: математика, IT, инженерия, горное дело, менеджмент, экономика, практика, иное.\n",
    "\n",
    "Учитывай, что в категорию математика необходимо включать все математические и физические дисциплины.\n",
    "\n",
    "В категорию IT необходимо включать все, что касается информатики, программирования, кибербезопасность, проектирования информационных систем, машинного обучения и тд.\n",
    "\n",
    "В категорию инженерия необходимо включать все, что касается механизмов и материалов.\n",
    "\n",
    "В категорию горное дело необходимо включать все, что касается производства горных работ.\n",
    "\n",
    "В категорию менеджмент включай все, что касается управления, hr-процессов, менеджмента.\n",
    "\n",
    "В категорию экономика все что касается экономической теории, процессов, денег.\n",
    "\n",
    "В категорию практика включай все что касается учебной, производственной, преддипломной практике, научно-исследовательские работы.\n",
    "\n",
    "В категорию иное включай все что касается истории, философии, изучения иностранных языков, психологии, права, физической культуры и тп.\n",
    "\n",
    "Если ни одна из категорий не подходит, то ответить \"я не знаю\" (без кавычек). Отвечай ТОЛЬКО одной из категорий или \"я не знаю\", НЕ пиши, почему ты принял такое решение.\n",
    "\n",
    "За успешной выполнение задачи тебе заплатят 10 долларов.\n",
    "\n",
    "Пример1\n",
    "Дисциплина: История\n",
    "Ответ: иное\n",
    "\n",
    "Пример2\n",
    "Дисциплина: Программирование и алгоритмизация\n",
    "Ответ: IT\n",
    "\n",
    "Пример3\n",
    "Дисциплина: Основы металловедения\n",
    "Ответ: инженерия\n",
    "\n",
    "Пример4\n",
    "Дисциплина: Физические свойства твердых тел\n",
    "Ответ: математика\n",
    "\n",
    "Пример5\n",
    "Дисциплина: Сипушатник\n",
    "Ответ: я не знаю\n",
    "\n",
    "\n",
    "\n",
    "Дисциплина: {cource}\n",
    "Ответ:<|eot_id|><|start_header_id|>assistant<|end_header_id|>\n",
    "\"\"\""
   ]
  },
  {
   "cell_type": "code",
   "execution_count": 42,
   "metadata": {},
   "outputs": [
    {
     "name": "stdout",
     "output_type": "stream",
     "text": [
      "\n",
      "<|begin_of_text|><|start_header_id|>system<|end_header_id|>\n",
      "\n",
      "Ты — Сайга, русскоязычный автоматический ассистент. Ты разговариваешь с людьми и помогаешь им.<|eot_id|><|start_header_id|>user<|end_header_id|>\n",
      "\n",
      "Тебе необходимо определить учебную дисциплину в одну из категорий: математика, IT, инженерия, горное дело, менеджмент, экономика, практика, иное.\n",
      "\n",
      "Учитывай, что в категорию математика необходимо включать все математические и физические дисциплины.\n",
      "\n",
      "В категорию IT необходимо включать все, что касается информатики, программирования, кибербезопасность, проектирования информационных систем, машинного обучения и тд.\n",
      "\n",
      "В категорию инженерия необходимо включать все, что касается механизмов и материалов.\n",
      "\n",
      "В категорию горное дело необходимо включать все, что касается производства горных работ.\n",
      "\n",
      "В категорию менеджмент включай все, что касается управления, hr-процессов, менеджмента.\n",
      "\n",
      "В категорию экономика все что касается экономической теории, процессов, денег.\n",
      "\n",
      "В категорию практика включай все что касается учебной, производственной, преддипломной практике, научно-исследовательские работы.\n",
      "\n",
      "В категорию иное включай все что касается истории, философии, изучения иностранных языков, психологии, права, физической культуры и тп.\n",
      "\n",
      "Если ни одна из категорий не подходит, то ответить \"я не знаю\" (без кавычек). Отвечай ТОЛЬКО одной из категорий или \"я не знаю\", НЕ пиши, почему ты принял такое решение.\n",
      "\n",
      "За успешной выполнение задачи тебе заплатят 10 долларов.\n",
      "\n",
      "Пример1\n",
      "Дисциплина: История\n",
      "Ответ: иное\n",
      "\n",
      "Пример2\n",
      "Дисциплина: Программирование и алгоритмизация\n",
      "Ответ: IT\n",
      "\n",
      "Пример3\n",
      "Дисциплина: Основы металловедения\n",
      "Ответ: инженерия\n",
      "\n",
      "Пример4\n",
      "Дисциплина: Физические свойства твердых тел\n",
      "Ответ: математика\n",
      "\n",
      "Пример5\n",
      "Дисциплина: Сипушатник\n",
      "Ответ: я не знаю\n",
      "\n",
      "\n",
      "\n",
      "Дисциплина: Математический анализ\n",
      "Ответ:<|eot_id|><|start_header_id|>assistant<|end_header_id|>\n",
      "математика\n"
     ]
    }
   ],
   "source": [
    "prompt = PromptTemplate(template=template, input_variables=[\"cource\"])\n",
    "sent = prompt.format(cource=\"Математический анализ\")\n",
    "print(text_pipeline([sent])[0][0][\"generated_text\"])"
   ]
  },
  {
   "cell_type": "code",
   "execution_count": 43,
   "metadata": {},
   "outputs": [
    {
     "name": "stdout",
     "output_type": "stream",
     "text": [
      "1161\n"
     ]
    }
   ],
   "source": [
    "print(df.dis.nunique())\n",
    "ds = pd.DataFrame({\"col\": df.dis.unique()})\n",
    "ds = Dataset.from_pandas(ds).with_format(\"torch\", device=0)"
   ]
  },
  {
   "cell_type": "code",
   "execution_count": 44,
   "metadata": {},
   "outputs": [
    {
     "name": "stderr",
     "output_type": "stream",
     "text": [
      "  6%|▌         | 9/146 [00:06<01:45,  1.30it/s]You seem to be using the pipelines sequentially on GPU. In order to maximize efficiency please use a dataset\n",
      "100%|██████████| 146/146 [01:48<00:00,  1.34it/s]\n"
     ]
    }
   ],
   "source": [
    "train_load = DataLoader(ds, batch_size=8, num_workers=0)\n",
    "res = []\n",
    "for batch in tqdm(train_load):\n",
    "    with torch.no_grad():\n",
    "        sents = [prompt.format(cource=i) for i in batch[\"col\"]]\n",
    "        len_sent = [len(i) for i in sents]\n",
    "        res.extend(\n",
    "            [\n",
    "                i[0][\"generated_text\"][k:].strip()\n",
    "                for i, k in zip(text_pipeline(sents), len_sent)\n",
    "            ]\n",
    "        )"
   ]
  },
  {
   "cell_type": "code",
   "execution_count": 46,
   "metadata": {},
   "outputs": [],
   "source": [
    "qw = pd.DataFrame({\"col\": df.dis.unique()})\n",
    "qw[\"res\"] = res"
   ]
  },
  {
   "cell_type": "code",
   "execution_count": 50,
   "metadata": {},
   "outputs": [
    {
     "data": {
      "text/html": [
       "<div>\n",
       "<style scoped>\n",
       "    .dataframe tbody tr th:only-of-type {\n",
       "        vertical-align: middle;\n",
       "    }\n",
       "\n",
       "    .dataframe tbody tr th {\n",
       "        vertical-align: top;\n",
       "    }\n",
       "\n",
       "    .dataframe thead th {\n",
       "        text-align: right;\n",
       "    }\n",
       "</style>\n",
       "<table border=\"1\" class=\"dataframe\">\n",
       "  <thead>\n",
       "    <tr style=\"text-align: right;\">\n",
       "      <th></th>\n",
       "      <th>col</th>\n",
       "      <th>res</th>\n",
       "    </tr>\n",
       "  </thead>\n",
       "  <tbody>\n",
       "    <tr>\n",
       "      <th>0</th>\n",
       "      <td>Инженерная компьютерная графика</td>\n",
       "      <td>инженерия</td>\n",
       "    </tr>\n",
       "    <tr>\n",
       "      <th>1</th>\n",
       "      <td>Иностранный язык</td>\n",
       "      <td>иное</td>\n",
       "    </tr>\n",
       "    <tr>\n",
       "      <th>2</th>\n",
       "      <td>История</td>\n",
       "      <td>иное</td>\n",
       "    </tr>\n",
       "    <tr>\n",
       "      <th>3</th>\n",
       "      <td>Математика</td>\n",
       "      <td>математика</td>\n",
       "    </tr>\n",
       "    <tr>\n",
       "      <th>4</th>\n",
       "      <td>Программирование и алгоритмизация</td>\n",
       "      <td>IT</td>\n",
       "    </tr>\n",
       "    <tr>\n",
       "      <th>...</th>\n",
       "      <td>...</td>\n",
       "      <td>...</td>\n",
       "    </tr>\n",
       "    <tr>\n",
       "      <th>1156</th>\n",
       "      <td>Теория вероятностей и математическая статистика для инженеров</td>\n",
       "      <td>математика</td>\n",
       "    </tr>\n",
       "    <tr>\n",
       "      <th>1157</th>\n",
       "      <td>Практическое применение машинного обучения</td>\n",
       "      <td>IT</td>\n",
       "    </tr>\n",
       "    <tr>\n",
       "      <th>1158</th>\n",
       "      <td>Язык SQL</td>\n",
       "      <td>IT</td>\n",
       "    </tr>\n",
       "    <tr>\n",
       "      <th>1159</th>\n",
       "      <td>Глубокое обучение</td>\n",
       "      <td>IT</td>\n",
       "    </tr>\n",
       "    <tr>\n",
       "      <th>1160</th>\n",
       "      <td>Основы статистики</td>\n",
       "      <td>математика</td>\n",
       "    </tr>\n",
       "  </tbody>\n",
       "</table>\n",
       "<p>1161 rows × 2 columns</p>\n",
       "</div>"
      ],
      "text/plain": [
       "                                                                col         res\n",
       "0                                   Инженерная компьютерная графика   инженерия\n",
       "1                                                  Иностранный язык        иное\n",
       "2                                                           История        иное\n",
       "3                                                        Математика  математика\n",
       "4                                 Программирование и алгоритмизация          IT\n",
       "...                                                             ...         ...\n",
       "1156  Теория вероятностей и математическая статистика для инженеров  математика\n",
       "1157                     Практическое применение машинного обучения          IT\n",
       "1158                                                       Язык SQL          IT\n",
       "1159                                              Глубокое обучение          IT\n",
       "1160                                              Основы статистики  математика\n",
       "\n",
       "[1161 rows x 2 columns]"
      ]
     },
     "execution_count": 50,
     "metadata": {},
     "output_type": "execute_result"
    }
   ],
   "source": [
    "qw"
   ]
  },
  {
   "cell_type": "code",
   "execution_count": 49,
   "metadata": {},
   "outputs": [
    {
     "data": {
      "text/plain": [
       "res\n",
       "IT                                248\n",
       "инженерия                         236\n",
       "математика                        146\n",
       "горное дело                       141\n",
       "менеджмент                        137\n",
       "иное                              125\n",
       "практика                           69\n",
       "экономика                          51\n",
       "Экономика                           2\n",
       "экономика, менеджмент               1\n",
       "информатика                         1\n",
       "иностранные языки                   1\n",
       "информационные технологии (IT)      1\n",
       "информационные технологии           1\n",
       "физическая культура, иное           1\n",
       "Name: count, dtype: int64"
      ]
     },
     "execution_count": 49,
     "metadata": {},
     "output_type": "execute_result"
    }
   ],
   "source": [
    "qw.res.value_counts()"
   ]
  },
  {
   "cell_type": "code",
   "execution_count": 51,
   "metadata": {},
   "outputs": [],
   "source": [
    "qw[\"res\"] = qw[\"res\"].replace(\n",
    "    {\n",
    "        \"Экономика\": \"экономика\",\n",
    "        \"экономика, менеджмент\": \"экономика\",\n",
    "        \"информатика\": \"IT\",\n",
    "        \"иностранные языки\": \"иное\",\n",
    "        \"информационные технологии (IT)\": \"IT\",\n",
    "        \"информационные технологии\": \"IT\",\n",
    "        \"физическая культура, иное\": \"иное\",\n",
    "    }\n",
    ")"
   ]
  },
  {
   "cell_type": "code",
   "execution_count": 52,
   "metadata": {},
   "outputs": [
    {
     "data": {
      "text/plain": [
       "res\n",
       "IT             251\n",
       "инженерия      236\n",
       "математика     146\n",
       "горное дело    141\n",
       "менеджмент     137\n",
       "иное           127\n",
       "практика        69\n",
       "экономика       54\n",
       "Name: count, dtype: int64"
      ]
     },
     "execution_count": 52,
     "metadata": {},
     "output_type": "execute_result"
    }
   ],
   "source": [
    "qw.res.value_counts()"
   ]
  },
  {
   "cell_type": "code",
   "execution_count": 55,
   "metadata": {},
   "outputs": [
    {
     "data": {
      "text/html": [
       "<div>\n",
       "<style scoped>\n",
       "    .dataframe tbody tr th:only-of-type {\n",
       "        vertical-align: middle;\n",
       "    }\n",
       "\n",
       "    .dataframe tbody tr th {\n",
       "        vertical-align: top;\n",
       "    }\n",
       "\n",
       "    .dataframe thead th {\n",
       "        text-align: right;\n",
       "    }\n",
       "</style>\n",
       "<table border=\"1\" class=\"dataframe\">\n",
       "  <thead>\n",
       "    <tr style=\"text-align: right;\">\n",
       "      <th></th>\n",
       "      <th>hash</th>\n",
       "      <th>level</th>\n",
       "      <th>group</th>\n",
       "      <th>spec</th>\n",
       "      <th>year</th>\n",
       "      <th>half_year</th>\n",
       "      <th>dis</th>\n",
       "      <th>evaluation_1</th>\n",
       "      <th>evaluation_2</th>\n",
       "    </tr>\n",
       "  </thead>\n",
       "  <tbody>\n",
       "    <tr>\n",
       "      <th>328551</th>\n",
       "      <td>197b83f9730b57bce23b2ee510d1d093</td>\n",
       "      <td>Бакалавр</td>\n",
       "      <td>БПИ-21-4</td>\n",
       "      <td>Прикладная информатика</td>\n",
       "      <td>2022 - 2023</td>\n",
       "      <td>II полугодие</td>\n",
       "      <td>Разработка клиент-серверных приложений</td>\n",
       "      <td>Отлично</td>\n",
       "      <td>Отлично</td>\n",
       "    </tr>\n",
       "  </tbody>\n",
       "</table>\n",
       "</div>"
      ],
      "text/plain": [
       "                                    hash     level     group                    spec         year     half_year                                     dis evaluation_1 evaluation_2\n",
       "328551  197b83f9730b57bce23b2ee510d1d093  Бакалавр  БПИ-21-4  Прикладная информатика  2022 - 2023  II полугодие  Разработка клиент-серверных приложений      Отлично      Отлично"
      ]
     },
     "execution_count": 55,
     "metadata": {},
     "output_type": "execute_result"
    }
   ],
   "source": [
    "df.sample()"
   ]
  },
  {
   "cell_type": "code",
   "execution_count": 56,
   "metadata": {},
   "outputs": [],
   "source": [
    "qw.columns = [\"dis\", \"dis_group\"]"
   ]
  },
  {
   "cell_type": "code",
   "execution_count": 59,
   "metadata": {},
   "outputs": [],
   "source": [
    "df = df.merge(qw, on=\"dis\")"
   ]
  },
  {
   "cell_type": "code",
   "execution_count": 60,
   "metadata": {},
   "outputs": [
    {
     "data": {
      "text/html": [
       "<div>\n",
       "<style scoped>\n",
       "    .dataframe tbody tr th:only-of-type {\n",
       "        vertical-align: middle;\n",
       "    }\n",
       "\n",
       "    .dataframe tbody tr th {\n",
       "        vertical-align: top;\n",
       "    }\n",
       "\n",
       "    .dataframe thead th {\n",
       "        text-align: right;\n",
       "    }\n",
       "</style>\n",
       "<table border=\"1\" class=\"dataframe\">\n",
       "  <thead>\n",
       "    <tr style=\"text-align: right;\">\n",
       "      <th></th>\n",
       "      <th>hash</th>\n",
       "      <th>level</th>\n",
       "      <th>group</th>\n",
       "      <th>spec</th>\n",
       "      <th>year</th>\n",
       "      <th>half_year</th>\n",
       "      <th>dis</th>\n",
       "      <th>evaluation_1</th>\n",
       "      <th>evaluation_2</th>\n",
       "      <th>dis_group</th>\n",
       "    </tr>\n",
       "  </thead>\n",
       "  <tbody>\n",
       "    <tr>\n",
       "      <th>106185</th>\n",
       "      <td>2ed17018b526152df15b88da8e41dfb7</td>\n",
       "      <td>Бакалавр</td>\n",
       "      <td>БМН-19-1з</td>\n",
       "      <td>Менеджмент</td>\n",
       "      <td>2020 - 2021</td>\n",
       "      <td>II полугодие</td>\n",
       "      <td>Методы оптимальных управленческих решений</td>\n",
       "      <td>NaN</td>\n",
       "      <td>Отлично</td>\n",
       "      <td>менеджмент</td>\n",
       "    </tr>\n",
       "    <tr>\n",
       "      <th>195323</th>\n",
       "      <td>bb167e1db4feef55d83b6ea51eaf2328</td>\n",
       "      <td>Бакалавр</td>\n",
       "      <td>БЛГ-20-5</td>\n",
       "      <td>Лингвистика</td>\n",
       "      <td>2021 - 2022</td>\n",
       "      <td>I полугодие</td>\n",
       "      <td>Основы публичной речи</td>\n",
       "      <td>NaN</td>\n",
       "      <td>NaN</td>\n",
       "      <td>менеджмент</td>\n",
       "    </tr>\n",
       "    <tr>\n",
       "      <th>213815</th>\n",
       "      <td>8325f664300dcd28750130b020a9d22d</td>\n",
       "      <td>Бакалавр</td>\n",
       "      <td>БЛГ-20-15</td>\n",
       "      <td>Лингвистика</td>\n",
       "      <td>2022 - 2023</td>\n",
       "      <td>I полугодие</td>\n",
       "      <td>Сравнительная типология английского и русского языков</td>\n",
       "      <td>NaN</td>\n",
       "      <td>NaN</td>\n",
       "      <td>иное</td>\n",
       "    </tr>\n",
       "  </tbody>\n",
       "</table>\n",
       "</div>"
      ],
      "text/plain": [
       "                                    hash     level      group         spec         year     half_year                                                    dis evaluation_1 evaluation_2   dis_group\n",
       "106185  2ed17018b526152df15b88da8e41dfb7  Бакалавр  БМН-19-1з   Менеджмент  2020 - 2021  II полугодие              Методы оптимальных управленческих решений          NaN      Отлично  менеджмент\n",
       "195323  bb167e1db4feef55d83b6ea51eaf2328  Бакалавр   БЛГ-20-5  Лингвистика  2021 - 2022   I полугодие                                  Основы публичной речи          NaN          NaN  менеджмент\n",
       "213815  8325f664300dcd28750130b020a9d22d  Бакалавр  БЛГ-20-15  Лингвистика  2022 - 2023   I полугодие  Сравнительная типология английского и русского языков          NaN          NaN        иное"
      ]
     },
     "execution_count": 60,
     "metadata": {},
     "output_type": "execute_result"
    }
   ],
   "source": [
    "df.sample(3)"
   ]
  },
  {
   "cell_type": "markdown",
   "metadata": {},
   "source": [
    "Посчитаем какой год зачисления и курс на котором находился студент на момент сдачи экзамена / зачета"
   ]
  },
  {
   "cell_type": "code",
   "execution_count": 61,
   "metadata": {},
   "outputs": [],
   "source": [
    "df[\"year_start\"] = df[\"group\"].apply(lambda X: X.split(\"-\")[1])"
   ]
  },
  {
   "cell_type": "code",
   "execution_count": 62,
   "metadata": {},
   "outputs": [
    {
     "data": {
      "text/plain": [
       "year_start\n",
       "20    95942\n",
       "21    53926\n",
       "22    42061\n",
       "19    13130\n",
       "18    11236\n",
       "17      313\n",
       "16       77\n",
       "Name: count, dtype: int64"
      ]
     },
     "execution_count": 62,
     "metadata": {},
     "output_type": "execute_result"
    }
   ],
   "source": [
    "df[\"year_start\"].value_counts()"
   ]
  },
  {
   "cell_type": "code",
   "execution_count": 63,
   "metadata": {},
   "outputs": [],
   "source": [
    "def course(x1, x2):\n",
    "    return int(x2.split()[-1][-2:]) - int(x1)"
   ]
  },
  {
   "cell_type": "code",
   "execution_count": 64,
   "metadata": {},
   "outputs": [],
   "source": [
    "df[\"course\"] = df.apply(lambda X: course(X[\"year_start\"], X[\"year\"]), axis=1)"
   ]
  },
  {
   "cell_type": "code",
   "execution_count": 65,
   "metadata": {},
   "outputs": [
    {
     "data": {
      "text/plain": [
       "level       course\n",
       "Бакалавр    1         68349\n",
       "            2         62559\n",
       "            3         33836\n",
       "            4           537\n",
       "Магистр     1         13744\n",
       "Специалист  1         11697\n",
       "            2         10758\n",
       "            3          7778\n",
       "            4          5087\n",
       "            5          2256\n",
       "            6            73\n",
       "            7            11\n",
       "Name: count, dtype: int64"
      ]
     },
     "execution_count": 65,
     "metadata": {},
     "output_type": "execute_result"
    }
   ],
   "source": [
    "df[[\"level\", \"course\"]].value_counts().sort_index()"
   ]
  },
  {
   "cell_type": "markdown",
   "metadata": {},
   "source": [
    "У Бакалавров есть 5 курс, а у специалиста 6, 7, 8. Их немного поэтому просто удалим такие значения."
   ]
  },
  {
   "cell_type": "code",
   "execution_count": 66,
   "metadata": {},
   "outputs": [
    {
     "data": {
      "text/plain": [
       "(216601, 12)"
      ]
     },
     "execution_count": 66,
     "metadata": {},
     "output_type": "execute_result"
    }
   ],
   "source": [
    "bool_bad_bac = df[\"level\"].isin([\"Бакалавр\"]) & df[\"course\"].isin([5])\n",
    "bool_bad_mag = df[\"level\"].isin([\"Специалист\"]) & df[\"course\"].isin([6, 7, 8])\n",
    "\n",
    "df = df[(~bool_bad_bac) & (~bool_bad_mag)]\n",
    "df.shape"
   ]
  },
  {
   "cell_type": "code",
   "execution_count": 67,
   "metadata": {},
   "outputs": [
    {
     "data": {
      "text/plain": [
       "level       course\n",
       "Бакалавр    1         68349\n",
       "            2         62559\n",
       "            3         33836\n",
       "            4           537\n",
       "Магистр     1         13744\n",
       "Специалист  1         11697\n",
       "            2         10758\n",
       "            3          7778\n",
       "            4          5087\n",
       "            5          2256\n",
       "Name: count, dtype: int64"
      ]
     },
     "execution_count": 67,
     "metadata": {},
     "output_type": "execute_result"
    }
   ],
   "source": [
    "df[[\"level\", \"course\"]].value_counts().sort_index()"
   ]
  },
  {
   "cell_type": "markdown",
   "metadata": {},
   "source": [
    "Удалим 20% null значений c 3 курса Бакалавра и Специалистов "
   ]
  },
  {
   "cell_type": "code",
   "execution_count": 68,
   "metadata": {},
   "outputs": [],
   "source": [
    "bool_values = (\n",
    "    df[\"evaluation_1\"].isnull()\n",
    "    & df[\"evaluation_2\"].isnull()\n",
    "    & (\n",
    "        (df[\"level\"].isin([\"Бакалавр\", \"Специалист\"]) & (df[\"course\"] > 2))\n",
    "        # | df[\"level\"].isin([\"Магистр\"])\n",
    "    )\n",
    ")\n",
    "\n",
    "\n",
    "df_new = pd.concat(\n",
    "    [df[bool_values].groupby(\"hash\").sample(frac=0.8, random_state=1), df[~bool_values]]\n",
    ")"
   ]
  },
  {
   "cell_type": "code",
   "execution_count": 69,
   "metadata": {},
   "outputs": [
    {
     "data": {
      "text/plain": [
       "evaluation_2\n",
       "Отлично                52823\n",
       "Удовлетворительно      42286\n",
       "Хорошо                 39680\n",
       "зачтено                39309\n",
       "Неявка                  3873\n",
       "Неудовлетворительно     1146\n",
       "не зачтено               896\n",
       "Не допущен                 1\n",
       "Name: count, dtype: int64"
      ]
     },
     "execution_count": 69,
     "metadata": {},
     "output_type": "execute_result"
    }
   ],
   "source": [
    "df_new.evaluation_2.value_counts()"
   ]
  },
  {
   "cell_type": "code",
   "execution_count": 70,
   "metadata": {},
   "outputs": [],
   "source": [
    "df_new[[\"evaluation_1\", \"evaluation_2\"]] = df_new[\n",
    "    [\"evaluation_1\", \"evaluation_2\"]\n",
    "].fillna(\"Неудовлетворительно\")"
   ]
  },
  {
   "cell_type": "code",
   "execution_count": 71,
   "metadata": {},
   "outputs": [],
   "source": [
    "df_new[[\"evaluation_1\", \"evaluation_2\"]] = df_new[\n",
    "    [\"evaluation_1\", \"evaluation_2\"]\n",
    "].replace(\n",
    "    [\n",
    "        \"Неудовлетворительно\",\n",
    "        \"Неявка\",\n",
    "        \"Не допущен\",\n",
    "        \"Удовлетворительно\",\n",
    "        \"Хорошо\",\n",
    "        \"Отлично\",\n",
    "        \"зачтено\",\n",
    "        \"не зачтено\",\n",
    "    ],\n",
    "    [2, 2, 2, 3, 4, 5, \"credit\", \"not_credit\"],\n",
    ")"
   ]
  },
  {
   "cell_type": "code",
   "execution_count": 72,
   "metadata": {},
   "outputs": [
    {
     "data": {
      "text/html": [
       "<div>\n",
       "<style scoped>\n",
       "    .dataframe tbody tr th:only-of-type {\n",
       "        vertical-align: middle;\n",
       "    }\n",
       "\n",
       "    .dataframe tbody tr th {\n",
       "        vertical-align: top;\n",
       "    }\n",
       "\n",
       "    .dataframe thead th {\n",
       "        text-align: right;\n",
       "    }\n",
       "</style>\n",
       "<table border=\"1\" class=\"dataframe\">\n",
       "  <thead>\n",
       "    <tr style=\"text-align: right;\">\n",
       "      <th></th>\n",
       "      <th>hash</th>\n",
       "      <th>level</th>\n",
       "      <th>group</th>\n",
       "      <th>spec</th>\n",
       "      <th>year</th>\n",
       "      <th>half_year</th>\n",
       "      <th>dis</th>\n",
       "      <th>evaluation_1</th>\n",
       "      <th>evaluation_2</th>\n",
       "      <th>dis_group</th>\n",
       "      <th>year_start</th>\n",
       "      <th>course</th>\n",
       "    </tr>\n",
       "  </thead>\n",
       "  <tbody>\n",
       "    <tr>\n",
       "      <th>13617</th>\n",
       "      <td>1468ec5d00fc17883056cff268395577</td>\n",
       "      <td>Бакалавр</td>\n",
       "      <td>БЛГ-20-11</td>\n",
       "      <td>Лингвистика</td>\n",
       "      <td>2021 - 2022</td>\n",
       "      <td>II полугодие</td>\n",
       "      <td>Практическая грамматика</td>\n",
       "      <td>2</td>\n",
       "      <td>3</td>\n",
       "      <td>практика</td>\n",
       "      <td>20</td>\n",
       "      <td>2</td>\n",
       "    </tr>\n",
       "    <tr>\n",
       "      <th>142685</th>\n",
       "      <td>8e174a7b45ceea5a6a653bd54758998c</td>\n",
       "      <td>Бакалавр</td>\n",
       "      <td>БМТ-21-1</td>\n",
       "      <td>Металлургия</td>\n",
       "      <td>2022 - 2023</td>\n",
       "      <td>II полугодие</td>\n",
       "      <td>Математика</td>\n",
       "      <td>2</td>\n",
       "      <td>3</td>\n",
       "      <td>математика</td>\n",
       "      <td>21</td>\n",
       "      <td>2</td>\n",
       "    </tr>\n",
       "    <tr>\n",
       "      <th>53605</th>\n",
       "      <td>3ee5c1f2cb146a8aa99fd014954d5aed</td>\n",
       "      <td>Специалист</td>\n",
       "      <td>СГД-21-2</td>\n",
       "      <td>Горное дело</td>\n",
       "      <td>2021 - 2022</td>\n",
       "      <td>II полугодие</td>\n",
       "      <td>Информатика</td>\n",
       "      <td>not_credit</td>\n",
       "      <td>credit</td>\n",
       "      <td>IT</td>\n",
       "      <td>21</td>\n",
       "      <td>1</td>\n",
       "    </tr>\n",
       "    <tr>\n",
       "      <th>37258</th>\n",
       "      <td>cd2b73b2b7fab90c695b3995e4f97f90</td>\n",
       "      <td>Бакалавр</td>\n",
       "      <td>БПМ-20-2</td>\n",
       "      <td>Прикладная математика</td>\n",
       "      <td>2022 - 2023</td>\n",
       "      <td>I полугодие</td>\n",
       "      <td>Дискретные и нелинейные системы автоматического управления</td>\n",
       "      <td>5</td>\n",
       "      <td>5</td>\n",
       "      <td>математика</td>\n",
       "      <td>20</td>\n",
       "      <td>3</td>\n",
       "    </tr>\n",
       "    <tr>\n",
       "      <th>104763</th>\n",
       "      <td>fe91dc70c56f0d5095a4c98771a8a9b7</td>\n",
       "      <td>Бакалавр</td>\n",
       "      <td>БЛГ-22-13</td>\n",
       "      <td>Лингвистика</td>\n",
       "      <td>2022 - 2023</td>\n",
       "      <td>II полугодие</td>\n",
       "      <td>История</td>\n",
       "      <td>credit</td>\n",
       "      <td>credit</td>\n",
       "      <td>иное</td>\n",
       "      <td>22</td>\n",
       "      <td>1</td>\n",
       "    </tr>\n",
       "  </tbody>\n",
       "</table>\n",
       "</div>"
      ],
      "text/plain": [
       "                                    hash       level      group                   spec         year     half_year                                                         dis evaluation_1 evaluation_2   dis_group year_start  course\n",
       "13617   1468ec5d00fc17883056cff268395577    Бакалавр  БЛГ-20-11            Лингвистика  2021 - 2022  II полугодие                                     Практическая грамматика            2            3    практика         20       2\n",
       "142685  8e174a7b45ceea5a6a653bd54758998c    Бакалавр   БМТ-21-1            Металлургия  2022 - 2023  II полугодие                                                  Математика            2            3  математика         21       2\n",
       "53605   3ee5c1f2cb146a8aa99fd014954d5aed  Специалист   СГД-21-2            Горное дело  2021 - 2022  II полугодие                                                 Информатика   not_credit       credit          IT         21       1\n",
       "37258   cd2b73b2b7fab90c695b3995e4f97f90    Бакалавр   БПМ-20-2  Прикладная математика  2022 - 2023   I полугодие  Дискретные и нелинейные системы автоматического управления            5            5  математика         20       3\n",
       "104763  fe91dc70c56f0d5095a4c98771a8a9b7    Бакалавр  БЛГ-22-13            Лингвистика  2022 - 2023  II полугодие                                                     История       credit       credit        иное         22       1"
      ]
     },
     "execution_count": 72,
     "metadata": {},
     "output_type": "execute_result"
    }
   ],
   "source": [
    "df_new.sample(5)"
   ]
  },
  {
   "cell_type": "code",
   "execution_count": 73,
   "metadata": {},
   "outputs": [],
   "source": [
    "df_new[\"time_period\"] = df_new[\"year\"] + \"_\" + df_new[\"half_year\"]"
   ]
  },
  {
   "cell_type": "code",
   "execution_count": 75,
   "metadata": {},
   "outputs": [
    {
     "name": "stderr",
     "output_type": "stream",
     "text": [
      "  0%|          | 0/6 [00:00<?, ?it/s]"
     ]
    },
    {
     "name": "stderr",
     "output_type": "stream",
     "text": [
      "100%|██████████| 6/6 [00:12<00:00,  2.09s/it]\n"
     ]
    }
   ],
   "source": [
    "time_period = []\n",
    "yaer_list = [\n",
    "    \"2018 - 2019\",\n",
    "    \"2019 - 2020\",\n",
    "    \"2020 - 2021\",\n",
    "    \"2021 - 2022\",\n",
    "    \"2022 - 2023\",\n",
    "    \"2023 - 2024\",\n",
    "]\n",
    "half_yaer_list = [\"I полугодие\", \"II полугодие\"]\n",
    "result = {}\n",
    "\n",
    "for year in tqdm(yaer_list):\n",
    "    for half_year in half_yaer_list:\n",
    "        time_period.append(f\"{year}_{half_year}\")\n",
    "\n",
    "        df_buff = df_new[df_new[\"time_period\"].isin(time_period)]\n",
    "        df_buff_exam = df_buff[df_buff.evaluation_2.isin([2, 3, 4, 5])]\n",
    "        df_buff_credit = df_buff[~df_buff.evaluation_2.isin([2, 3, 4, 5])]\n",
    "\n",
    "        if not len(df_buff):\n",
    "            continue\n",
    "\n",
    "        result[time_period[-1]] = {}\n",
    "\n",
    "        for i in [\"hash\", \"level\", \"group\", \"spec\", \"dis_group\"]:\n",
    "            gb_data = df_buff_exam.groupby(i)[\"evaluation_2\"].agg(\n",
    "                mean=\"mean\", median=\"median\", std=\"std\"\n",
    "            )\n",
    "\n",
    "            df_pivot = df_buff_credit[[i, \"evaluation_2\", \"time_period\"]].pivot_table(\n",
    "                index=i, columns=\"evaluation_2\", aggfunc=\"count\"\n",
    "            )\n",
    "            df_pivot.columns = [i[1] for i in df_pivot.columns]\n",
    "\n",
    "            if \"не зачтено\" not in df_pivot.columns:\n",
    "                df_pivot[\"not_credit\"] = 0\n",
    "            if \"зачтено\" not in df_pivot.columns:\n",
    "                df_pivot[\"credit\"] = 0\n",
    "\n",
    "            gb_data = gb_data.join(df_pivot)\n",
    "\n",
    "            gb_data[\"credit_part\"] = gb_data[\"not_credit\"] / (\n",
    "                gb_data[\"credit\"] + gb_data[\"not_credit\"]\n",
    "            )\n",
    "            gb_data.columns = [f\"{i}_{col}\" for col in gb_data.columns]\n",
    "\n",
    "            result[time_period[-1]][i] = gb_data.fillna(0).reset_index()"
   ]
  },
  {
   "cell_type": "code",
   "execution_count": 76,
   "metadata": {},
   "outputs": [
    {
     "name": "stderr",
     "output_type": "stream",
     "text": [
      "100%|██████████| 11/11 [00:01<00:00,  7.02it/s]\n"
     ]
    }
   ],
   "source": [
    "index = 0\n",
    "res_df = []\n",
    "train_data = df_new[\n",
    "    [\"hash\", \"level\", \"group\", \"spec\", \"dis\", \"dis_group\", \"time_period\", \"course\", \"evaluation_2\"]\n",
    "]\n",
    "\n",
    "for period in tqdm(time_period[1:]):\n",
    "\n",
    "    df_merge = train_data[train_data[\"time_period\"] == period]\n",
    "    dict_merge = result[time_period[index]]\n",
    "\n",
    "    for col_name in dict_merge.keys():\n",
    "        df_merge = pd.merge(\n",
    "            df_merge, dict_merge[col_name], on=col_name, how=\"left\"\n",
    "        ).fillna(0)\n",
    "\n",
    "    res_df.append(df_merge)\n",
    "    index += 1"
   ]
  },
  {
   "cell_type": "code",
   "execution_count": 78,
   "metadata": {},
   "outputs": [],
   "source": [
    "df_train = pd.concat(res_df)"
   ]
  },
  {
   "cell_type": "code",
   "execution_count": 79,
   "metadata": {},
   "outputs": [
    {
     "data": {
      "text/plain": [
       "(213564, 39)"
      ]
     },
     "execution_count": 79,
     "metadata": {},
     "output_type": "execute_result"
    }
   ],
   "source": [
    "df_train.shape"
   ]
  },
  {
   "cell_type": "code",
   "execution_count": 100,
   "metadata": {},
   "outputs": [
    {
     "data": {
      "text/plain": [
       "Index(['hash', 'level', 'group', 'spec', 'dis', 'dis_group', 'time_period', 'course', 'evaluation_2', 'hash_mean', 'hash_median', 'hash_std', 'hash_credit', 'hash_not_credit', 'hash_credit_part', 'level_mean', 'level_median', 'level_std', 'level_credit', 'level_not_credit', 'level_credit_part', 'group_mean', 'group_median', 'group_std', 'group_credit', 'group_not_credit', 'group_credit_part', 'spec_mean', 'spec_median', 'spec_std', 'spec_credit', 'spec_not_credit', 'spec_credit_part', 'dis_group_mean', 'dis_group_median', 'dis_group_std', 'dis_group_credit', 'dis_group_not_credit', 'dis_group_credit_part'], dtype='object')"
      ]
     },
     "execution_count": 100,
     "metadata": {},
     "output_type": "execute_result"
    }
   ],
   "source": [
    "df_train.columns"
   ]
  },
  {
   "cell_type": "markdown",
   "metadata": {},
   "source": [
    "Признаки 'hash_mean', 'hash_median', 'hash_std', 'hash_credit', 'hash_not_credit', 'hash_credit_part', 'level_mean', 'level_median', 'level_std', 'level_credit', 'level_not_credit', 'level_credit_part', 'group_mean', 'group_median', 'group_std', 'group_credit', 'group_not_credit', 'group_credit_part', 'spec_mean', 'spec_median', 'spec_std', 'spec_credit', 'spec_not_credit', 'spec_credit_part', 'dis_group_mean', 'dis_group_median', 'dis_group_std', 'dis_group_credit', 'dis_group_not_credit', 'dis_group_credit_part' расчитываются за прошедший период, то есть экзамен или зачет сданы в 1 полугодии 2022-2023 учебном году, то расчет их ведется без учета 1 полугодии 2022-2023. \n",
    "\n",
    "Считаются средняя, меданная оценка и стандартное отклонение для каждого стундента, его группы, курса, уроня образования, программы, группы предмета. \n",
    "\n",
    "Также для них считается сданные или не сданные зачеты, ссотношения не сданных зачетов ко всем зачетам."
   ]
  },
  {
   "cell_type": "markdown",
   "metadata": {},
   "source": [
    "### Тренировка и оценка модели"
   ]
  },
  {
   "cell_type": "code",
   "execution_count": 84,
   "metadata": {},
   "outputs": [],
   "source": [
    "df_train_exam = df_train[~df_train[\"evaluation_2\"].isin([\"credit\", \"not_credit\"])]\n",
    "df_train_credit = df_train[df_train[\"evaluation_2\"].isin([\"credit\", \"not_credit\"])]"
   ]
  },
  {
   "cell_type": "code",
   "execution_count": 85,
   "metadata": {},
   "outputs": [
    {
     "data": {
      "text/plain": [
       "time_period\n",
       "2018 - 2019_II полугодие   0.00\n",
       "2019 - 2020_I полугодие    0.01\n",
       "2019 - 2020_II полугодие   0.01\n",
       "2020 - 2021_I полугодие    0.05\n",
       "2020 - 2021_II полугодие   0.07\n",
       "2021 - 2022_I полугодие    0.14\n",
       "2021 - 2022_II полугодие   0.19\n",
       "2022 - 2023_I полугодие    0.24\n",
       "2022 - 2023_II полугодие   0.29\n",
       "Name: proportion, dtype: float64"
      ]
     },
     "execution_count": 85,
     "metadata": {},
     "output_type": "execute_result"
    }
   ],
   "source": [
    "df_train_exam[\"time_period\"].value_counts(normalize=True).sort_index()"
   ]
  },
  {
   "cell_type": "code",
   "execution_count": 86,
   "metadata": {},
   "outputs": [
    {
     "data": {
      "text/plain": [
       "time_period\n",
       "2018 - 2019_II полугодие   0.00\n",
       "2019 - 2020_I полугодие    0.01\n",
       "2019 - 2020_II полугодие   0.01\n",
       "2020 - 2021_I полугодие    0.05\n",
       "2020 - 2021_II полугодие   0.07\n",
       "2021 - 2022_I полугодие    0.14\n",
       "2021 - 2022_II полугодие   0.19\n",
       "2022 - 2023_I полугодие    0.24\n",
       "2022 - 2023_II полугодие   0.29\n",
       "Name: proportion, dtype: float64"
      ]
     },
     "execution_count": 86,
     "metadata": {},
     "output_type": "execute_result"
    }
   ],
   "source": [
    "df_train_exam[\"time_period\"].value_counts(normalize=True).sort_index()"
   ]
  },
  {
   "cell_type": "code",
   "execution_count": 87,
   "metadata": {},
   "outputs": [
    {
     "data": {
      "text/plain": [
       "array(['2018 - 2019_II полугодие', '2019 - 2020_I полугодие',\n",
       "       '2019 - 2020_II полугодие', '2020 - 2021_I полугодие',\n",
       "       '2020 - 2021_II полугодие', '2021 - 2022_I полугодие',\n",
       "       '2021 - 2022_II полугодие', '2022 - 2023_I полугодие',\n",
       "       '2022 - 2023_II полугодие'], dtype=object)"
      ]
     },
     "execution_count": 87,
     "metadata": {},
     "output_type": "execute_result"
    }
   ],
   "source": [
    "df_train_exam[\"time_period\"].unique()"
   ]
  },
  {
   "cell_type": "code",
   "execution_count": 88,
   "metadata": {},
   "outputs": [],
   "source": [
    "train_df = df_train_exam[\n",
    "    ~df_train_exam.time_period.isin(\n",
    "        [\n",
    "            \"2022 - 2023_II полугодие\",\n",
    "        ]\n",
    "    )\n",
    "]\n",
    "valid_df = df_train_exam[df_train_exam.time_period.isin([\"2022 - 2023_II полугодие\"])]\n",
    "\n",
    "\n",
    "X_train = train_df.drop([\"hash\", \"time_period\", \"evaluation_2\"], axis=1)\n",
    "X_valid = valid_df.drop([\"hash\", \"time_period\", \"evaluation_2\"], axis=1)\n",
    "\n",
    "y_train = train_df[\"evaluation_2\"]\n",
    "y_valid = valid_df[\"evaluation_2\"]"
   ]
  },
  {
   "cell_type": "code",
   "execution_count": 89,
   "metadata": {},
   "outputs": [
    {
     "name": "stdout",
     "output_type": "stream",
     "text": [
      "Learning rate set to 0.11888\n",
      "0:\ttest: 0.7074891\tbest: 0.7074891 (0)\ttotal: 904ms\tremaining: 15m 2s\n",
      "50:\ttest: 0.8045883\tbest: 0.8045883 (50)\ttotal: 42.4s\tremaining: 13m 8s\n",
      "100:\ttest: 0.8127217\tbest: 0.8127217 (100)\ttotal: 1m 22s\tremaining: 12m 14s\n",
      "150:\ttest: 0.8185840\tbest: 0.8185962 (149)\ttotal: 2m 2s\tremaining: 11m 30s\n",
      "200:\ttest: 0.8220857\tbest: 0.8220857 (200)\ttotal: 2m 43s\tremaining: 10m 48s\n",
      "250:\ttest: 0.8240640\tbest: 0.8240640 (250)\ttotal: 3m 23s\tremaining: 10m 6s\n",
      "300:\ttest: 0.8255968\tbest: 0.8255968 (300)\ttotal: 4m 2s\tremaining: 9m 24s\n",
      "350:\ttest: 0.8261966\tbest: 0.8262629 (341)\ttotal: 4m 42s\tremaining: 8m 42s\n",
      "400:\ttest: 0.8273733\tbest: 0.8273733 (400)\ttotal: 5m 23s\tremaining: 8m 3s\n",
      "450:\ttest: 0.8280961\tbest: 0.8281134 (447)\ttotal: 6m 3s\tremaining: 7m 22s\n",
      "500:\ttest: 0.8286770\tbest: 0.8286770 (500)\ttotal: 6m 44s\tremaining: 6m 42s\n",
      "550:\ttest: 0.8289167\tbest: 0.8289344 (526)\ttotal: 7m 24s\tremaining: 6m 2s\n",
      "600:\ttest: 0.8289276\tbest: 0.8289525 (597)\ttotal: 8m 4s\tremaining: 5m 21s\n",
      "650:\ttest: 0.8291057\tbest: 0.8291474 (647)\ttotal: 8m 45s\tremaining: 4m 41s\n",
      "700:\ttest: 0.8293478\tbest: 0.8293478 (700)\ttotal: 9m 25s\tremaining: 4m 1s\n",
      "750:\ttest: 0.8295080\tbest: 0.8295580 (737)\ttotal: 10m 6s\tremaining: 3m 20s\n",
      "800:\ttest: 0.8297754\tbest: 0.8297754 (800)\ttotal: 10m 46s\tremaining: 2m 40s\n",
      "850:\ttest: 0.8299809\tbest: 0.8299995 (847)\ttotal: 11m 27s\tremaining: 2m\n",
      "900:\ttest: 0.8301780\tbest: 0.8302495 (895)\ttotal: 12m 7s\tremaining: 1m 19s\n",
      "950:\ttest: 0.8301249\tbest: 0.8302495 (895)\ttotal: 12m 48s\tremaining: 39.6s\n",
      "Stopped by overfitting detector  (100 iterations wait)\n",
      "\n",
      "bestTest = 0.8302495284\n",
      "bestIteration = 895\n",
      "\n",
      "Shrink model to first 896 iterations.\n"
     ]
    },
    {
     "data": {
      "text/plain": [
       "<catboost.core.CatBoostClassifier at 0x7f3934aa6b30>"
      ]
     },
     "execution_count": 89,
     "metadata": {},
     "output_type": "execute_result"
    }
   ],
   "source": [
    "model = CatBoostClassifier(\n",
    "    eval_metric=\"AUC\",\n",
    "    boosting_type=\"Ordered\",\n",
    "    verbose=50,\n",
    "    early_stopping_rounds=100,\n",
    "    random_seed=1,\n",
    ")\n",
    "model.fit(\n",
    "    X_train,\n",
    "    y_train,\n",
    "    eval_set=(X_valid, y_valid),\n",
    "    cat_features=[\"level\", \"spec\", \"course\", \"group\", \"dis_group\"],\n",
    "    text_features=[\"dis\"],\n",
    ")"
   ]
  },
  {
   "cell_type": "code",
   "execution_count": 90,
   "metadata": {},
   "outputs": [
    {
     "name": "stdout",
     "output_type": "stream",
     "text": [
      "              precision    recall  f1-score   support\n",
      "\n",
      "           2       0.64      0.65      0.64     12797\n",
      "           3       0.46      0.51      0.49     11035\n",
      "           4       0.36      0.22      0.28     10742\n",
      "           5       0.62      0.73      0.67     16512\n",
      "\n",
      "    accuracy                           0.55     51086\n",
      "   macro avg       0.52      0.53      0.52     51086\n",
      "weighted avg       0.54      0.55      0.54     51086\n",
      "\n"
     ]
    }
   ],
   "source": [
    "repor_exam = classification_report(y_valid.to_list(), model.predict(X_valid))\n",
    "print(repor_exam)"
   ]
  },
  {
   "cell_type": "markdown",
   "metadata": {},
   "source": [
    "3 и 4 разграничиваются плохо"
   ]
  },
  {
   "cell_type": "code",
   "execution_count": 91,
   "metadata": {},
   "outputs": [
    {
     "data": {
      "text/html": [
       "<div>\n",
       "<style scoped>\n",
       "    .dataframe tbody tr th:only-of-type {\n",
       "        vertical-align: middle;\n",
       "    }\n",
       "\n",
       "    .dataframe tbody tr th {\n",
       "        vertical-align: top;\n",
       "    }\n",
       "\n",
       "    .dataframe thead th {\n",
       "        text-align: right;\n",
       "    }\n",
       "</style>\n",
       "<table border=\"1\" class=\"dataframe\">\n",
       "  <thead>\n",
       "    <tr style=\"text-align: right;\">\n",
       "      <th></th>\n",
       "      <th>Feature Id</th>\n",
       "      <th>Importances</th>\n",
       "    </tr>\n",
       "  </thead>\n",
       "  <tbody>\n",
       "    <tr>\n",
       "      <th>0</th>\n",
       "      <td>dis</td>\n",
       "      <td>26.72</td>\n",
       "    </tr>\n",
       "    <tr>\n",
       "      <th>1</th>\n",
       "      <td>hash_mean</td>\n",
       "      <td>14.68</td>\n",
       "    </tr>\n",
       "    <tr>\n",
       "      <th>2</th>\n",
       "      <td>spec_std</td>\n",
       "      <td>9.86</td>\n",
       "    </tr>\n",
       "    <tr>\n",
       "      <th>3</th>\n",
       "      <td>group</td>\n",
       "      <td>8.36</td>\n",
       "    </tr>\n",
       "    <tr>\n",
       "      <th>4</th>\n",
       "      <td>hash_std</td>\n",
       "      <td>7.68</td>\n",
       "    </tr>\n",
       "    <tr>\n",
       "      <th>5</th>\n",
       "      <td>spec</td>\n",
       "      <td>5.54</td>\n",
       "    </tr>\n",
       "    <tr>\n",
       "      <th>6</th>\n",
       "      <td>hash_median</td>\n",
       "      <td>5.51</td>\n",
       "    </tr>\n",
       "    <tr>\n",
       "      <th>7</th>\n",
       "      <td>dis_group</td>\n",
       "      <td>5.43</td>\n",
       "    </tr>\n",
       "    <tr>\n",
       "      <th>8</th>\n",
       "      <td>group_std</td>\n",
       "      <td>4.63</td>\n",
       "    </tr>\n",
       "    <tr>\n",
       "      <th>9</th>\n",
       "      <td>group_mean</td>\n",
       "      <td>3.19</td>\n",
       "    </tr>\n",
       "    <tr>\n",
       "      <th>10</th>\n",
       "      <td>course</td>\n",
       "      <td>2.51</td>\n",
       "    </tr>\n",
       "    <tr>\n",
       "      <th>11</th>\n",
       "      <td>group_median</td>\n",
       "      <td>1.17</td>\n",
       "    </tr>\n",
       "    <tr>\n",
       "      <th>12</th>\n",
       "      <td>level</td>\n",
       "      <td>1.07</td>\n",
       "    </tr>\n",
       "    <tr>\n",
       "      <th>13</th>\n",
       "      <td>spec_mean</td>\n",
       "      <td>0.91</td>\n",
       "    </tr>\n",
       "    <tr>\n",
       "      <th>14</th>\n",
       "      <td>level_std</td>\n",
       "      <td>0.80</td>\n",
       "    </tr>\n",
       "    <tr>\n",
       "      <th>15</th>\n",
       "      <td>dis_group_std</td>\n",
       "      <td>0.77</td>\n",
       "    </tr>\n",
       "    <tr>\n",
       "      <th>16</th>\n",
       "      <td>dis_group_mean</td>\n",
       "      <td>0.56</td>\n",
       "    </tr>\n",
       "    <tr>\n",
       "      <th>17</th>\n",
       "      <td>level_mean</td>\n",
       "      <td>0.33</td>\n",
       "    </tr>\n",
       "    <tr>\n",
       "      <th>18</th>\n",
       "      <td>spec_median</td>\n",
       "      <td>0.26</td>\n",
       "    </tr>\n",
       "    <tr>\n",
       "      <th>19</th>\n",
       "      <td>dis_group_median</td>\n",
       "      <td>0.02</td>\n",
       "    </tr>\n",
       "    <tr>\n",
       "      <th>20</th>\n",
       "      <td>level_median</td>\n",
       "      <td>0.01</td>\n",
       "    </tr>\n",
       "  </tbody>\n",
       "</table>\n",
       "</div>"
      ],
      "text/plain": [
       "          Feature Id  Importances\n",
       "0                dis        26.72\n",
       "1          hash_mean        14.68\n",
       "2           spec_std         9.86\n",
       "3              group         8.36\n",
       "4           hash_std         7.68\n",
       "5               spec         5.54\n",
       "6        hash_median         5.51\n",
       "7          dis_group         5.43\n",
       "8          group_std         4.63\n",
       "9         group_mean         3.19\n",
       "10            course         2.51\n",
       "11      group_median         1.17\n",
       "12             level         1.07\n",
       "13         spec_mean         0.91\n",
       "14         level_std         0.80\n",
       "15     dis_group_std         0.77\n",
       "16    dis_group_mean         0.56\n",
       "17        level_mean         0.33\n",
       "18       spec_median         0.26\n",
       "19  dis_group_median         0.02\n",
       "20      level_median         0.01"
      ]
     },
     "execution_count": 91,
     "metadata": {},
     "output_type": "execute_result"
    }
   ],
   "source": [
    "# важность признаков\n",
    "fi_exam = model.get_feature_importance(prettified=True)\n",
    "fi_exam = fi_exam[fi_exam[\"Importances\"] > 0]\n",
    "fi_exam"
   ]
  },
  {
   "cell_type": "code",
   "execution_count": 92,
   "metadata": {},
   "outputs": [
    {
     "data": {
      "text/plain": [
       "time_period\n",
       "2018 - 2019_II полугодие   0.02\n",
       "2019 - 2020_I полугодие    0.03\n",
       "2019 - 2020_II полугодие   0.02\n",
       "2020 - 2021_I полугодие    0.10\n",
       "2020 - 2021_II полугодие   0.10\n",
       "2021 - 2022_I полугодие    0.15\n",
       "2021 - 2022_II полугодие   0.13\n",
       "2022 - 2023_I полугодие    0.25\n",
       "2022 - 2023_II полугодие   0.20\n",
       "Name: proportion, dtype: float64"
      ]
     },
     "execution_count": 92,
     "metadata": {},
     "output_type": "execute_result"
    }
   ],
   "source": [
    "df_train_credit[\"time_period\"].value_counts(normalize=True).sort_index()"
   ]
  },
  {
   "cell_type": "code",
   "execution_count": 93,
   "metadata": {},
   "outputs": [],
   "source": [
    "train_df = df_train_credit[\n",
    "    ~df_train_credit.time_period.isin(\n",
    "        [\n",
    "            \"2022 - 2023_II полугодие\",\n",
    "        ]\n",
    "    )\n",
    "]\n",
    "valid_df = df_train_credit[\n",
    "    df_train_credit.time_period.isin([\"2022 - 2023_II полугодие\"])\n",
    "]\n",
    "\n",
    "\n",
    "X_train = train_df.drop([\"hash\", \"time_period\", \"evaluation_2\"], axis=1)\n",
    "X_valid = valid_df.drop([\"hash\", \"time_period\", \"evaluation_2\"], axis=1)\n",
    "\n",
    "y_train = train_df[\"evaluation_2\"]\n",
    "y_valid = valid_df[\"evaluation_2\"]"
   ]
  },
  {
   "cell_type": "code",
   "execution_count": 96,
   "metadata": {},
   "outputs": [
    {
     "name": "stdout",
     "output_type": "stream",
     "text": [
      "Learning rate set to 0.074385\n",
      "0:\ttest: 0.6203042\tbest: 0.6203042 (0)\ttotal: 79.3ms\tremaining: 1m 19s\n",
      "50:\ttest: 0.8480276\tbest: 0.8481256 (42)\ttotal: 5.6s\tremaining: 1m 44s\n",
      "100:\ttest: 0.8560049\tbest: 0.8576589 (72)\ttotal: 11s\tremaining: 1m 38s\n",
      "150:\ttest: 0.8574169\tbest: 0.8589062 (127)\ttotal: 16.3s\tremaining: 1m 31s\n",
      "200:\ttest: 0.8548053\tbest: 0.8589062 (127)\ttotal: 22.1s\tremaining: 1m 27s\n",
      "250:\ttest: 0.8521725\tbest: 0.8589062 (127)\ttotal: 27.9s\tremaining: 1m 23s\n",
      "300:\ttest: 0.8493930\tbest: 0.8589062 (127)\ttotal: 33.7s\tremaining: 1m 18s\n",
      "Stopped by overfitting detector  (200 iterations wait)\n",
      "\n",
      "bestTest = 0.8589062118\n",
      "bestIteration = 127\n",
      "\n",
      "Shrink model to first 128 iterations.\n"
     ]
    },
    {
     "data": {
      "text/plain": [
       "<catboost.core.CatBoostClassifier at 0x7f3934aadae0>"
      ]
     },
     "execution_count": 96,
     "metadata": {},
     "output_type": "execute_result"
    }
   ],
   "source": [
    "model = CatBoostClassifier(\n",
    "    iterations=1000,\n",
    "    eval_metric=\"AUC\",\n",
    "    boosting_type=\"Ordered\",\n",
    "    verbose=50,\n",
    "    random_seed=1,\n",
    "    early_stopping_rounds=200\n",
    ")\n",
    "model.fit(\n",
    "    X_train,\n",
    "    y_train,\n",
    "    eval_set=(X_valid, y_valid),\n",
    "    cat_features=[\"level\", \"spec\", \"course\", \"group\", \"dis_group\"],\n",
    "    text_features=[\"dis\"],\n",
    ")"
   ]
  },
  {
   "cell_type": "code",
   "execution_count": 97,
   "metadata": {},
   "outputs": [
    {
     "name": "stdout",
     "output_type": "stream",
     "text": [
      "              precision    recall  f1-score   support\n",
      "\n",
      "      credit       0.94      1.00      0.97      7635\n",
      "  not_credit       0.50      0.01      0.01       466\n",
      "\n",
      "    accuracy                           0.94      8101\n",
      "   macro avg       0.72      0.50      0.49      8101\n",
      "weighted avg       0.92      0.94      0.92      8101\n",
      "\n"
     ]
    }
   ],
   "source": [
    "repor_credit = classification_report(y_valid.to_list(), model.predict(X_valid))\n",
    "print(repor_credit)"
   ]
  },
  {
   "cell_type": "code",
   "execution_count": 98,
   "metadata": {},
   "outputs": [
    {
     "data": {
      "text/html": [
       "<div>\n",
       "<style scoped>\n",
       "    .dataframe tbody tr th:only-of-type {\n",
       "        vertical-align: middle;\n",
       "    }\n",
       "\n",
       "    .dataframe tbody tr th {\n",
       "        vertical-align: top;\n",
       "    }\n",
       "\n",
       "    .dataframe thead th {\n",
       "        text-align: right;\n",
       "    }\n",
       "</style>\n",
       "<table border=\"1\" class=\"dataframe\">\n",
       "  <thead>\n",
       "    <tr style=\"text-align: right;\">\n",
       "      <th></th>\n",
       "      <th>Feature Id</th>\n",
       "      <th>Importances</th>\n",
       "    </tr>\n",
       "  </thead>\n",
       "  <tbody>\n",
       "    <tr>\n",
       "      <th>0</th>\n",
       "      <td>hash_mean</td>\n",
       "      <td>25.57</td>\n",
       "    </tr>\n",
       "    <tr>\n",
       "      <th>1</th>\n",
       "      <td>dis</td>\n",
       "      <td>11.99</td>\n",
       "    </tr>\n",
       "    <tr>\n",
       "      <th>2</th>\n",
       "      <td>course</td>\n",
       "      <td>10.89</td>\n",
       "    </tr>\n",
       "    <tr>\n",
       "      <th>3</th>\n",
       "      <td>group_std</td>\n",
       "      <td>6.85</td>\n",
       "    </tr>\n",
       "    <tr>\n",
       "      <th>4</th>\n",
       "      <td>hash_median</td>\n",
       "      <td>6.82</td>\n",
       "    </tr>\n",
       "    <tr>\n",
       "      <th>5</th>\n",
       "      <td>group</td>\n",
       "      <td>5.97</td>\n",
       "    </tr>\n",
       "    <tr>\n",
       "      <th>6</th>\n",
       "      <td>spec_std</td>\n",
       "      <td>5.31</td>\n",
       "    </tr>\n",
       "    <tr>\n",
       "      <th>7</th>\n",
       "      <td>dis_group</td>\n",
       "      <td>4.60</td>\n",
       "    </tr>\n",
       "    <tr>\n",
       "      <th>8</th>\n",
       "      <td>dis_group_std</td>\n",
       "      <td>4.37</td>\n",
       "    </tr>\n",
       "    <tr>\n",
       "      <th>9</th>\n",
       "      <td>hash_std</td>\n",
       "      <td>3.29</td>\n",
       "    </tr>\n",
       "    <tr>\n",
       "      <th>10</th>\n",
       "      <td>level_std</td>\n",
       "      <td>2.70</td>\n",
       "    </tr>\n",
       "    <tr>\n",
       "      <th>11</th>\n",
       "      <td>spec</td>\n",
       "      <td>2.40</td>\n",
       "    </tr>\n",
       "    <tr>\n",
       "      <th>12</th>\n",
       "      <td>group_mean</td>\n",
       "      <td>2.03</td>\n",
       "    </tr>\n",
       "    <tr>\n",
       "      <th>13</th>\n",
       "      <td>level_median</td>\n",
       "      <td>1.68</td>\n",
       "    </tr>\n",
       "    <tr>\n",
       "      <th>14</th>\n",
       "      <td>level_mean</td>\n",
       "      <td>1.40</td>\n",
       "    </tr>\n",
       "    <tr>\n",
       "      <th>15</th>\n",
       "      <td>spec_mean</td>\n",
       "      <td>1.04</td>\n",
       "    </tr>\n",
       "    <tr>\n",
       "      <th>16</th>\n",
       "      <td>dis_group_median</td>\n",
       "      <td>0.89</td>\n",
       "    </tr>\n",
       "    <tr>\n",
       "      <th>17</th>\n",
       "      <td>group_median</td>\n",
       "      <td>0.71</td>\n",
       "    </tr>\n",
       "    <tr>\n",
       "      <th>18</th>\n",
       "      <td>spec_median</td>\n",
       "      <td>0.51</td>\n",
       "    </tr>\n",
       "    <tr>\n",
       "      <th>19</th>\n",
       "      <td>dis_group_mean</td>\n",
       "      <td>0.51</td>\n",
       "    </tr>\n",
       "    <tr>\n",
       "      <th>20</th>\n",
       "      <td>level</td>\n",
       "      <td>0.46</td>\n",
       "    </tr>\n",
       "  </tbody>\n",
       "</table>\n",
       "</div>"
      ],
      "text/plain": [
       "          Feature Id  Importances\n",
       "0          hash_mean        25.57\n",
       "1                dis        11.99\n",
       "2             course        10.89\n",
       "3          group_std         6.85\n",
       "4        hash_median         6.82\n",
       "5              group         5.97\n",
       "6           spec_std         5.31\n",
       "7          dis_group         4.60\n",
       "8      dis_group_std         4.37\n",
       "9           hash_std         3.29\n",
       "10         level_std         2.70\n",
       "11              spec         2.40\n",
       "12        group_mean         2.03\n",
       "13      level_median         1.68\n",
       "14        level_mean         1.40\n",
       "15         spec_mean         1.04\n",
       "16  dis_group_median         0.89\n",
       "17      group_median         0.71\n",
       "18       spec_median         0.51\n",
       "19    dis_group_mean         0.51\n",
       "20             level         0.46"
      ]
     },
     "execution_count": 98,
     "metadata": {},
     "output_type": "execute_result"
    }
   ],
   "source": [
    "# важность признаков \n",
    "fi_credit = model.get_feature_importance(prettified=True)\n",
    "fi_credit = fi_credit[fi_credit[\"Importances\"] > 0]\n",
    "fi_credit"
   ]
  },
  {
   "cell_type": "markdown",
   "metadata": {},
   "source": [
    "### Вывод"
   ]
  },
  {
   "cell_type": "markdown",
   "metadata": {},
   "source": [
    "Проведена работа по очистке данных, формированию призанков, обучению и тестированию модели. \n",
    "\n",
    "Модель предсказания оценки за экзамен показывает умеренные результаты, для обучения предсказания зачетов требуеются больше данных или же дополнительные признаки."
   ]
  }
 ],
 "metadata": {
  "kernelspec": {
   "display_name": "Python 3",
   "language": "python",
   "name": "python3"
  },
  "language_info": {
   "codemirror_mode": {
    "name": "ipython",
    "version": 3
   },
   "file_extension": ".py",
   "mimetype": "text/x-python",
   "name": "python",
   "nbconvert_exporter": "python",
   "pygments_lexer": "ipython3",
   "version": "3.10.12"
  }
 },
 "nbformat": 4,
 "nbformat_minor": 2
}
